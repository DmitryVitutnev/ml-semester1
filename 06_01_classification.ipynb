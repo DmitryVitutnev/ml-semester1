{
 "cells": [
  {
   "cell_type": "markdown",
   "metadata": {
    "colab_type": "text",
    "id": "6E3ZEkkwRk1J"
   },
   "source": [
    "# 6.1 Классификация.Соискатели\n",
    "\n",
    "1. Скачайте этот ноутбук к себе.\n",
    "2. Заполните пропущенные ячейки, отвечая на заданные вопросы. Там должен быть код! (если не сказано обратное)\n",
    "3. Отправьте результат нам\n",
    "\n",
    "### Полезная литература\n",
    "\n",
    "- [ODS - классификация](https://habrahabr.ru/company/ods/blog/322534/)\n",
    "- [Коллаборативная фильтрация - рекомендательная система](https://ru.wikipedia.org/wiki/%D0%9A%D0%BE%D0%BB%D0%BB%D0%B0%D0%B1%D0%BE%D1%80%D0%B0%D1%82%D0%B8%D0%B2%D0%BD%D0%B0%D1%8F_%D1%84%D0%B8%D0%BB%D1%8C%D1%82%D1%80%D0%B0%D1%86%D0%B8%D1%8F)\n",
    "- [Метрики расстояний - косинусная, минковского, проклятье размерности ](http://www.machinelearning.ru/wiki/images/9/9a/Sem1_knn.pdf)\n",
    "- [Offtop: метрики качества рекомендаьельных систем](https://habrahabr.ru/company/dca/blog/281066/)"
   ]
  },
  {
   "cell_type": "markdown",
   "metadata": {
    "colab_type": "text",
    "id": "2SjTJ7fkRk1N"
   },
   "source": [
    "## kNN - ближайшие соседи (15 баллов)\n",
    "\n",
    "Рассмотрим задачу из соревнования [Amazon Employee Access Challenge](https://www.kaggle.com/c/amazon-employee-access-challenge).\n",
    "\n",
    "В данной задаче предлагается предсказать, будет ли одобрен запрос сотрудника на получение доступа к тому или иному ресурсу. Все признаки являются категориальными."
   ]
  },
  {
   "cell_type": "code",
   "execution_count": 2,
   "metadata": {
    "colab": {},
    "colab_type": "code",
    "id": "Pq1-n6enRk1Q"
   },
   "outputs": [],
   "source": [
    "%matplotlib inline\n",
    "import pandas as pd\n",
    "import numpy as np\n",
    "from matplotlib import pyplot as plt\n",
    "import seaborn as sns\n",
    "from sklearn.model_selection import train_test_split, KFold, cross_val_score\n",
    "from sklearn.neighbors import KNeighborsClassifier\n",
    "from sklearn.metrics import classification_report, confusion_matrix\n",
    "from sklearn.preprocessing import scale"
   ]
  },
  {
   "cell_type": "code",
   "execution_count": 3,
   "metadata": {
    "colab": {},
    "colab_type": "code",
    "id": "1dag_dZ9Rk1c",
    "outputId": "8b4ee9f4-961c-4733-a793-10b8dbc79152"
   },
   "outputs": [
    {
     "data": {
      "text/html": [
       "<div>\n",
       "<style scoped>\n",
       "    .dataframe tbody tr th:only-of-type {\n",
       "        vertical-align: middle;\n",
       "    }\n",
       "\n",
       "    .dataframe tbody tr th {\n",
       "        vertical-align: top;\n",
       "    }\n",
       "\n",
       "    .dataframe thead th {\n",
       "        text-align: right;\n",
       "    }\n",
       "</style>\n",
       "<table border=\"1\" class=\"dataframe\">\n",
       "  <thead>\n",
       "    <tr style=\"text-align: right;\">\n",
       "      <th></th>\n",
       "      <th>ACTION</th>\n",
       "      <th>RESOURCE</th>\n",
       "      <th>MGR_ID</th>\n",
       "      <th>ROLE_ROLLUP_1</th>\n",
       "      <th>ROLE_ROLLUP_2</th>\n",
       "      <th>ROLE_DEPTNAME</th>\n",
       "      <th>ROLE_TITLE</th>\n",
       "      <th>ROLE_FAMILY_DESC</th>\n",
       "      <th>ROLE_FAMILY</th>\n",
       "      <th>ROLE_CODE</th>\n",
       "    </tr>\n",
       "  </thead>\n",
       "  <tbody>\n",
       "    <tr>\n",
       "      <td>0</td>\n",
       "      <td>1</td>\n",
       "      <td>39353</td>\n",
       "      <td>85475</td>\n",
       "      <td>117961</td>\n",
       "      <td>118300</td>\n",
       "      <td>123472</td>\n",
       "      <td>117905</td>\n",
       "      <td>117906</td>\n",
       "      <td>290919</td>\n",
       "      <td>117908</td>\n",
       "    </tr>\n",
       "    <tr>\n",
       "      <td>1</td>\n",
       "      <td>1</td>\n",
       "      <td>17183</td>\n",
       "      <td>1540</td>\n",
       "      <td>117961</td>\n",
       "      <td>118343</td>\n",
       "      <td>123125</td>\n",
       "      <td>118536</td>\n",
       "      <td>118536</td>\n",
       "      <td>308574</td>\n",
       "      <td>118539</td>\n",
       "    </tr>\n",
       "    <tr>\n",
       "      <td>2</td>\n",
       "      <td>1</td>\n",
       "      <td>36724</td>\n",
       "      <td>14457</td>\n",
       "      <td>118219</td>\n",
       "      <td>118220</td>\n",
       "      <td>117884</td>\n",
       "      <td>117879</td>\n",
       "      <td>267952</td>\n",
       "      <td>19721</td>\n",
       "      <td>117880</td>\n",
       "    </tr>\n",
       "    <tr>\n",
       "      <td>3</td>\n",
       "      <td>1</td>\n",
       "      <td>36135</td>\n",
       "      <td>5396</td>\n",
       "      <td>117961</td>\n",
       "      <td>118343</td>\n",
       "      <td>119993</td>\n",
       "      <td>118321</td>\n",
       "      <td>240983</td>\n",
       "      <td>290919</td>\n",
       "      <td>118322</td>\n",
       "    </tr>\n",
       "    <tr>\n",
       "      <td>4</td>\n",
       "      <td>1</td>\n",
       "      <td>42680</td>\n",
       "      <td>5905</td>\n",
       "      <td>117929</td>\n",
       "      <td>117930</td>\n",
       "      <td>119569</td>\n",
       "      <td>119323</td>\n",
       "      <td>123932</td>\n",
       "      <td>19793</td>\n",
       "      <td>119325</td>\n",
       "    </tr>\n",
       "  </tbody>\n",
       "</table>\n",
       "</div>"
      ],
      "text/plain": [
       "   ACTION  RESOURCE  MGR_ID  ROLE_ROLLUP_1  ROLE_ROLLUP_2  ROLE_DEPTNAME  \\\n",
       "0       1     39353   85475         117961         118300         123472   \n",
       "1       1     17183    1540         117961         118343         123125   \n",
       "2       1     36724   14457         118219         118220         117884   \n",
       "3       1     36135    5396         117961         118343         119993   \n",
       "4       1     42680    5905         117929         117930         119569   \n",
       "\n",
       "   ROLE_TITLE  ROLE_FAMILY_DESC  ROLE_FAMILY  ROLE_CODE  \n",
       "0      117905            117906       290919     117908  \n",
       "1      118536            118536       308574     118539  \n",
       "2      117879            267952        19721     117880  \n",
       "3      118321            240983       290919     118322  \n",
       "4      119323            123932        19793     119325  "
      ]
     },
     "execution_count": 3,
     "metadata": {},
     "output_type": "execute_result"
    }
   ],
   "source": [
    "df = pd.read_csv('../Data/amazon.csv.gz')\n",
    "df.head()\n",
    "# ACTION - это целевой признак"
   ]
  },
  {
   "cell_type": "markdown",
   "metadata": {
    "colab_type": "text",
    "id": "PZ85weZTRk1n"
   },
   "source": [
    "Обратим внимание, что выборка не сбалансированная. В качестве метрики качества будем использовть [f1-score](https://en.wikipedia.org/wiki/F1_score). \n",
    "$$F_1 = 2 \\cdot \\frac{\\mathrm{precision} \\cdot \\mathrm{recall}}{\\mathrm{precision} + \\mathrm{recall}}$$\n",
    "\n",
    "$$precision = \\frac{TP}{TP+FP}$$\n",
    "\n",
    "$$recall = \\frac{TP}{TP+FN}$$"
   ]
  },
  {
   "cell_type": "code",
   "execution_count": 4,
   "metadata": {
    "colab": {},
    "colab_type": "code",
    "id": "geYOEvR5Rk1p",
    "outputId": "ca148a90-68af-40ba-bf69-54604f7a048c"
   },
   "outputs": [
    {
     "name": "stdout",
     "output_type": "stream",
     "text": [
      "0.9421099209618847\n"
     ]
    },
    {
     "data": {
      "text/plain": [
       "<matplotlib.axes._subplots.AxesSubplot at 0x7f390beb4c18>"
      ]
     },
     "execution_count": 4,
     "metadata": {},
     "output_type": "execute_result"
    },
    {
     "data": {
      "image/png": "[encoded data removed]",
      "text/plain": [
       "<Figure size 432x288 with 1 Axes>"
      ]
     },
     "metadata": {
      "needs_background": "light"
     },
     "output_type": "display_data"
    }
   ],
   "source": [
    "print(df['ACTION'].mean())\n",
    "sns.countplot('ACTION', data=df)"
   ]
  },
  {
   "cell_type": "code",
   "execution_count": 5,
   "metadata": {
    "colab": {},
    "colab_type": "code",
    "id": "0esSU_9iRk1v",
    "outputId": "2be19cdd-7264-4693-9950-2a245a534b8e"
   },
   "outputs": [
    {
     "name": "stdout",
     "output_type": "stream",
     "text": [
      "ACTION 2\n",
      "RESOURCE 7518\n",
      "MGR_ID 4243\n",
      "ROLE_ROLLUP_1 128\n",
      "ROLE_ROLLUP_2 177\n",
      "ROLE_DEPTNAME 449\n",
      "ROLE_TITLE 343\n",
      "ROLE_FAMILY_DESC 2358\n",
      "ROLE_FAMILY 67\n",
      "ROLE_CODE 343\n"
     ]
    }
   ],
   "source": [
    "# число значений у признаков\n",
    "for col_name in df.columns:\n",
    "    print(col_name, len(df[col_name].unique()))"
   ]
  },
  {
   "cell_type": "code",
   "execution_count": 6,
   "metadata": {
    "colab": {},
    "colab_type": "code",
    "id": "grv_l7aYRk12"
   },
   "outputs": [],
   "source": [
    "X = df.drop(['ACTION'], axis=1)\n",
    "y = df['ACTION']\n",
    "X_train, X_test, y_train, y_test = train_test_split(X, y, random_state=42, test_size=0.8)"
   ]
  },
  {
   "cell_type": "markdown",
   "metadata": {
    "colab_type": "text",
    "id": "WF-Sqou3Rk19"
   },
   "source": [
    "# Baseline (4 балла)\n",
    "\n",
    "Сразу проверим как ведет себя kNN на неподготовленных данных и без тюнинга. Зафиксируйте `n_neighbors=5`, `p=2`. \n",
    "\n",
    "- создайте экземпляр `KNeighborsClassifier` с указанными параметрами, обучите его методом `fit` и предскажите значения `predict` для треничровчных данных `X_test`.\n",
    "- постройте отчет классификации (classification_report)\n",
    "- постройте confusion matrix и нарисуйте heatmap\n",
    "\n",
    "Обратите внимание на confusion matrix. Какой вывод вы можете сделать из неё? Вспомните лекцию и значение ошибок 1 и 2 рода."
   ]
  },
  {
   "cell_type": "code",
   "execution_count": 8,
   "metadata": {
    "colab": {},
    "colab_type": "code",
    "id": "b0VOmw-gRk2B"
   },
   "outputs": [
    {
     "name": "stdout",
     "output_type": "stream",
     "text": [
      "              precision    recall  f1-score   support\n",
      "\n",
      "           0       0.22      0.03      0.05      1534\n",
      "           1       0.94      0.99      0.97     24682\n",
      "\n",
      "    accuracy                           0.94     26216\n",
      "   macro avg       0.58      0.51      0.51     26216\n",
      "weighted avg       0.90      0.94      0.91     26216\n",
      "\n"
     ]
    }
   ],
   "source": [
    "knc = KNeighborsClassifier(n_neighbors=5, p=2)\n",
    "knc.fit(X_train, y_train)\n",
    "y_pred = knc.predict(X_test)\n",
    "print(classification_report(y_test, y_pred))\n"
   ]
  },
  {
   "cell_type": "code",
   "execution_count": 9,
   "metadata": {},
   "outputs": [
    {
     "data": {
      "text/plain": [
       "<matplotlib.axes._subplots.AxesSubplot at 0x7f3909dff0f0>"
      ]
     },
     "execution_count": 9,
     "metadata": {},
     "output_type": "execute_result"
    },
    {
     "data": {
      "image/png": "[encoded data removed]",
      "text/plain": [
       "<Figure size 864x864 with 2 Axes>"
      ]
     },
     "metadata": {
      "needs_background": "light"
     },
     "output_type": "display_data"
    }
   ],
   "source": [
    "akws = {\"ha\": 'center',\"va\": 'bottom'}\n",
    "plt.figure(figsize=(12,12))\n",
    "sns.heatmap(confusion_matrix(y_test, y_pred), cmap=plt.cm.Blues, square=True, annot=True, fmt='.4g', annot_kws=akws)"
   ]
  },
  {
   "cell_type": "markdown",
   "metadata": {
    "colab_type": "text",
    "id": "05W_1YtvRk2I"
   },
   "source": [
    "При фиксированном `n_neighbors=10` проверьте значение метрики на кроссвалидации на 5-фолдах для разных значений `p` из `(1,2,4,6)`. При каком значение `p` метрика достигает максимума?\n",
    "\n",
    "При кроссвалидации у вас будет получаться N разных значений метрики. Выводите среднее значение и стандартное отклонение."
   ]
  },
  {
   "cell_type": "code",
   "execution_count": 10,
   "metadata": {
    "colab": {},
    "colab_type": "code",
    "id": "4w4YEbZLRk2L"
   },
   "outputs": [
    {
     "name": "stdout",
     "output_type": "stream",
     "text": [
      "Fitting 5 folds for each of 4 candidates, totalling 20 fits\n"
     ]
    },
    {
     "name": "stderr",
     "output_type": "stream",
     "text": [
      "[Parallel(n_jobs=2)]: Using backend LokyBackend with 2 concurrent workers.\n"
     ]
    },
    {
     "ename": "KeyboardInterrupt",
     "evalue": "",
     "output_type": "error",
     "traceback": [
      "\u001b[0;31m---------------------------------------------------------------------------\u001b[0m",
      "\u001b[0;31mKeyboardInterrupt\u001b[0m                         Traceback (most recent call last)",
      "\u001b[0;32m<timed eval>\u001b[0m in \u001b[0;36m<module>\u001b[0;34m\u001b[0m\n",
      "\u001b[0;32m~/.pyenv/versions/3.7.1/lib/python3.7/site-packages/sklearn/model_selection/_search.py\u001b[0m in \u001b[0;36mfit\u001b[0;34m(self, X, y, groups, **fit_params)\u001b[0m\n\u001b[1;32m    686\u001b[0m                 \u001b[0;32mreturn\u001b[0m \u001b[0mresults\u001b[0m\u001b[0;34m\u001b[0m\u001b[0;34m\u001b[0m\u001b[0m\n\u001b[1;32m    687\u001b[0m \u001b[0;34m\u001b[0m\u001b[0m\n\u001b[0;32m--> 688\u001b[0;31m             \u001b[0mself\u001b[0m\u001b[0;34m.\u001b[0m\u001b[0m_run_search\u001b[0m\u001b[0;34m(\u001b[0m\u001b[0mevaluate_candidates\u001b[0m\u001b[0;34m)\u001b[0m\u001b[0;34m\u001b[0m\u001b[0;34m\u001b[0m\u001b[0m\n\u001b[0m\u001b[1;32m    689\u001b[0m \u001b[0;34m\u001b[0m\u001b[0m\n\u001b[1;32m    690\u001b[0m         \u001b[0;31m# For multi-metric evaluation, store the best_index_, best_params_ and\u001b[0m\u001b[0;34m\u001b[0m\u001b[0;34m\u001b[0m\u001b[0;34m\u001b[0m\u001b[0m\n",
      "\u001b[0;32m~/.pyenv/versions/3.7.1/lib/python3.7/site-packages/sklearn/model_selection/_search.py\u001b[0m in \u001b[0;36m_run_search\u001b[0;34m(self, evaluate_candidates)\u001b[0m\n\u001b[1;32m   1147\u001b[0m     \u001b[0;32mdef\u001b[0m \u001b[0m_run_search\u001b[0m\u001b[0;34m(\u001b[0m\u001b[0mself\u001b[0m\u001b[0;34m,\u001b[0m \u001b[0mevaluate_candidates\u001b[0m\u001b[0;34m)\u001b[0m\u001b[0;34m:\u001b[0m\u001b[0;34m\u001b[0m\u001b[0;34m\u001b[0m\u001b[0m\n\u001b[1;32m   1148\u001b[0m         \u001b[0;34m\"\"\"Search all candidates in param_grid\"\"\"\u001b[0m\u001b[0;34m\u001b[0m\u001b[0;34m\u001b[0m\u001b[0m\n\u001b[0;32m-> 1149\u001b[0;31m         \u001b[0mevaluate_candidates\u001b[0m\u001b[0;34m(\u001b[0m\u001b[0mParameterGrid\u001b[0m\u001b[0;34m(\u001b[0m\u001b[0mself\u001b[0m\u001b[0;34m.\u001b[0m\u001b[0mparam_grid\u001b[0m\u001b[0;34m)\u001b[0m\u001b[0;34m)\u001b[0m\u001b[0;34m\u001b[0m\u001b[0;34m\u001b[0m\u001b[0m\n\u001b[0m\u001b[1;32m   1150\u001b[0m \u001b[0;34m\u001b[0m\u001b[0m\n\u001b[1;32m   1151\u001b[0m \u001b[0;34m\u001b[0m\u001b[0m\n",
      "\u001b[0;32m~/.pyenv/versions/3.7.1/lib/python3.7/site-packages/sklearn/model_selection/_search.py\u001b[0m in \u001b[0;36mevaluate_candidates\u001b[0;34m(candidate_params)\u001b[0m\n\u001b[1;32m    665\u001b[0m                                \u001b[0;32mfor\u001b[0m \u001b[0mparameters\u001b[0m\u001b[0;34m,\u001b[0m \u001b[0;34m(\u001b[0m\u001b[0mtrain\u001b[0m\u001b[0;34m,\u001b[0m \u001b[0mtest\u001b[0m\u001b[0;34m)\u001b[0m\u001b[0;34m\u001b[0m\u001b[0;34m\u001b[0m\u001b[0m\n\u001b[1;32m    666\u001b[0m                                in product(candidate_params,\n\u001b[0;32m--> 667\u001b[0;31m                                           cv.split(X, y, groups)))\n\u001b[0m\u001b[1;32m    668\u001b[0m \u001b[0;34m\u001b[0m\u001b[0m\n\u001b[1;32m    669\u001b[0m                 \u001b[0;32mif\u001b[0m \u001b[0mlen\u001b[0m\u001b[0;34m(\u001b[0m\u001b[0mout\u001b[0m\u001b[0;34m)\u001b[0m \u001b[0;34m<\u001b[0m \u001b[0;36m1\u001b[0m\u001b[0;34m:\u001b[0m\u001b[0;34m\u001b[0m\u001b[0;34m\u001b[0m\u001b[0m\n",
      "\u001b[0;32m~/.pyenv/versions/3.7.1/lib/python3.7/site-packages/joblib/parallel.py\u001b[0m in \u001b[0;36m__call__\u001b[0;34m(self, iterable)\u001b[0m\n\u001b[1;32m   1014\u001b[0m \u001b[0;34m\u001b[0m\u001b[0m\n\u001b[1;32m   1015\u001b[0m             \u001b[0;32mwith\u001b[0m \u001b[0mself\u001b[0m\u001b[0;34m.\u001b[0m\u001b[0m_backend\u001b[0m\u001b[0;34m.\u001b[0m\u001b[0mretrieval_context\u001b[0m\u001b[0;34m(\u001b[0m\u001b[0;34m)\u001b[0m\u001b[0;34m:\u001b[0m\u001b[0;34m\u001b[0m\u001b[0;34m\u001b[0m\u001b[0m\n\u001b[0;32m-> 1016\u001b[0;31m                 \u001b[0mself\u001b[0m\u001b[0;34m.\u001b[0m\u001b[0mretrieve\u001b[0m\u001b[0;34m(\u001b[0m\u001b[0;34m)\u001b[0m\u001b[0;34m\u001b[0m\u001b[0;34m\u001b[0m\u001b[0m\n\u001b[0m\u001b[1;32m   1017\u001b[0m             \u001b[0;31m# Make sure that we get a last message telling us we are done\u001b[0m\u001b[0;34m\u001b[0m\u001b[0;34m\u001b[0m\u001b[0;34m\u001b[0m\u001b[0m\n\u001b[1;32m   1018\u001b[0m             \u001b[0melapsed_time\u001b[0m \u001b[0;34m=\u001b[0m \u001b[0mtime\u001b[0m\u001b[0;34m.\u001b[0m\u001b[0mtime\u001b[0m\u001b[0;34m(\u001b[0m\u001b[0;34m)\u001b[0m \u001b[0;34m-\u001b[0m \u001b[0mself\u001b[0m\u001b[0;34m.\u001b[0m\u001b[0m_start_time\u001b[0m\u001b[0;34m\u001b[0m\u001b[0;34m\u001b[0m\u001b[0m\n",
      "\u001b[0;32m~/.pyenv/versions/3.7.1/lib/python3.7/site-packages/joblib/parallel.py\u001b[0m in \u001b[0;36mretrieve\u001b[0;34m(self)\u001b[0m\n\u001b[1;32m    906\u001b[0m             \u001b[0;32mtry\u001b[0m\u001b[0;34m:\u001b[0m\u001b[0;34m\u001b[0m\u001b[0;34m\u001b[0m\u001b[0m\n\u001b[1;32m    907\u001b[0m                 \u001b[0;32mif\u001b[0m \u001b[0mgetattr\u001b[0m\u001b[0;34m(\u001b[0m\u001b[0mself\u001b[0m\u001b[0;34m.\u001b[0m\u001b[0m_backend\u001b[0m\u001b[0;34m,\u001b[0m \u001b[0;34m'supports_timeout'\u001b[0m\u001b[0;34m,\u001b[0m \u001b[0;32mFalse\u001b[0m\u001b[0;34m)\u001b[0m\u001b[0;34m:\u001b[0m\u001b[0;34m\u001b[0m\u001b[0;34m\u001b[0m\u001b[0m\n\u001b[0;32m--> 908\u001b[0;31m                     \u001b[0mself\u001b[0m\u001b[0;34m.\u001b[0m\u001b[0m_output\u001b[0m\u001b[0;34m.\u001b[0m\u001b[0mextend\u001b[0m\u001b[0;34m(\u001b[0m\u001b[0mjob\u001b[0m\u001b[0;34m.\u001b[0m\u001b[0mget\u001b[0m\u001b[0;34m(\u001b[0m\u001b[0mtimeout\u001b[0m\u001b[0;34m=\u001b[0m\u001b[0mself\u001b[0m\u001b[0;34m.\u001b[0m\u001b[0mtimeout\u001b[0m\u001b[0;34m)\u001b[0m\u001b[0;34m)\u001b[0m\u001b[0;34m\u001b[0m\u001b[0;34m\u001b[0m\u001b[0m\n\u001b[0m\u001b[1;32m    909\u001b[0m                 \u001b[0;32melse\u001b[0m\u001b[0;34m:\u001b[0m\u001b[0;34m\u001b[0m\u001b[0;34m\u001b[0m\u001b[0m\n\u001b[1;32m    910\u001b[0m                     \u001b[0mself\u001b[0m\u001b[0;34m.\u001b[0m\u001b[0m_output\u001b[0m\u001b[0;34m.\u001b[0m\u001b[0mextend\u001b[0m\u001b[0;34m(\u001b[0m\u001b[0mjob\u001b[0m\u001b[0;34m.\u001b[0m\u001b[0mget\u001b[0m\u001b[0;34m(\u001b[0m\u001b[0;34m)\u001b[0m\u001b[0;34m)\u001b[0m\u001b[0;34m\u001b[0m\u001b[0;34m\u001b[0m\u001b[0m\n",
      "\u001b[0;32m~/.pyenv/versions/3.7.1/lib/python3.7/site-packages/joblib/_parallel_backends.py\u001b[0m in \u001b[0;36mwrap_future_result\u001b[0;34m(future, timeout)\u001b[0m\n\u001b[1;32m    552\u001b[0m         AsyncResults.get from multiprocessing.\"\"\"\n\u001b[1;32m    553\u001b[0m         \u001b[0;32mtry\u001b[0m\u001b[0;34m:\u001b[0m\u001b[0;34m\u001b[0m\u001b[0;34m\u001b[0m\u001b[0m\n\u001b[0;32m--> 554\u001b[0;31m             \u001b[0;32mreturn\u001b[0m \u001b[0mfuture\u001b[0m\u001b[0;34m.\u001b[0m\u001b[0mresult\u001b[0m\u001b[0;34m(\u001b[0m\u001b[0mtimeout\u001b[0m\u001b[0;34m=\u001b[0m\u001b[0mtimeout\u001b[0m\u001b[0;34m)\u001b[0m\u001b[0;34m\u001b[0m\u001b[0;34m\u001b[0m\u001b[0m\n\u001b[0m\u001b[1;32m    555\u001b[0m         \u001b[0;32mexcept\u001b[0m \u001b[0mLokyTimeoutError\u001b[0m\u001b[0;34m:\u001b[0m\u001b[0;34m\u001b[0m\u001b[0;34m\u001b[0m\u001b[0m\n\u001b[1;32m    556\u001b[0m             \u001b[0;32mraise\u001b[0m \u001b[0mTimeoutError\u001b[0m\u001b[0;34m(\u001b[0m\u001b[0;34m)\u001b[0m\u001b[0;34m\u001b[0m\u001b[0;34m\u001b[0m\u001b[0m\n",
      "\u001b[0;32m~/.pyenv/versions/3.7.1/lib/python3.7/concurrent/futures/_base.py\u001b[0m in \u001b[0;36mresult\u001b[0;34m(self, timeout)\u001b[0m\n\u001b[1;32m    425\u001b[0m                 \u001b[0;32mreturn\u001b[0m \u001b[0mself\u001b[0m\u001b[0;34m.\u001b[0m\u001b[0m__get_result\u001b[0m\u001b[0;34m(\u001b[0m\u001b[0;34m)\u001b[0m\u001b[0;34m\u001b[0m\u001b[0;34m\u001b[0m\u001b[0m\n\u001b[1;32m    426\u001b[0m \u001b[0;34m\u001b[0m\u001b[0m\n\u001b[0;32m--> 427\u001b[0;31m             \u001b[0mself\u001b[0m\u001b[0;34m.\u001b[0m\u001b[0m_condition\u001b[0m\u001b[0;34m.\u001b[0m\u001b[0mwait\u001b[0m\u001b[0;34m(\u001b[0m\u001b[0mtimeout\u001b[0m\u001b[0;34m)\u001b[0m\u001b[0;34m\u001b[0m\u001b[0;34m\u001b[0m\u001b[0m\n\u001b[0m\u001b[1;32m    428\u001b[0m \u001b[0;34m\u001b[0m\u001b[0m\n\u001b[1;32m    429\u001b[0m             \u001b[0;32mif\u001b[0m \u001b[0mself\u001b[0m\u001b[0;34m.\u001b[0m\u001b[0m_state\u001b[0m \u001b[0;32min\u001b[0m \u001b[0;34m[\u001b[0m\u001b[0mCANCELLED\u001b[0m\u001b[0;34m,\u001b[0m \u001b[0mCANCELLED_AND_NOTIFIED\u001b[0m\u001b[0;34m]\u001b[0m\u001b[0;34m:\u001b[0m\u001b[0;34m\u001b[0m\u001b[0;34m\u001b[0m\u001b[0m\n",
      "\u001b[0;32m~/.pyenv/versions/3.7.1/lib/python3.7/threading.py\u001b[0m in \u001b[0;36mwait\u001b[0;34m(self, timeout)\u001b[0m\n\u001b[1;32m    294\u001b[0m         \u001b[0;32mtry\u001b[0m\u001b[0;34m:\u001b[0m    \u001b[0;31m# restore state no matter what (e.g., KeyboardInterrupt)\u001b[0m\u001b[0;34m\u001b[0m\u001b[0;34m\u001b[0m\u001b[0m\n\u001b[1;32m    295\u001b[0m             \u001b[0;32mif\u001b[0m \u001b[0mtimeout\u001b[0m \u001b[0;32mis\u001b[0m \u001b[0;32mNone\u001b[0m\u001b[0;34m:\u001b[0m\u001b[0;34m\u001b[0m\u001b[0;34m\u001b[0m\u001b[0m\n\u001b[0;32m--> 296\u001b[0;31m                 \u001b[0mwaiter\u001b[0m\u001b[0;34m.\u001b[0m\u001b[0macquire\u001b[0m\u001b[0;34m(\u001b[0m\u001b[0;34m)\u001b[0m\u001b[0;34m\u001b[0m\u001b[0;34m\u001b[0m\u001b[0m\n\u001b[0m\u001b[1;32m    297\u001b[0m                 \u001b[0mgotit\u001b[0m \u001b[0;34m=\u001b[0m \u001b[0;32mTrue\u001b[0m\u001b[0;34m\u001b[0m\u001b[0;34m\u001b[0m\u001b[0m\n\u001b[1;32m    298\u001b[0m             \u001b[0;32melse\u001b[0m\u001b[0;34m:\u001b[0m\u001b[0;34m\u001b[0m\u001b[0;34m\u001b[0m\u001b[0m\n",
      "\u001b[0;31mKeyboardInterrupt\u001b[0m: "
     ]
    }
   ],
   "source": [
    "from sklearn.model_selection import GridSearchCV\n",
    "from sklearn.model_selection import StratifiedKFold\n",
    "params = {\n",
    "    \"n_neighbors\": [10], \n",
    "    \"p\": [1,2,4,6]\n",
    "}\n",
    "\n",
    "search = GridSearchCV(KNeighborsClassifier(), params, n_jobs=2, \n",
    "                      cv=StratifiedKFold(n_splits=5, shuffle=True, random_state=42), verbose=2)\n",
    "%time search.fit(X, y)\n"
   ]
  },
  {
   "cell_type": "code",
   "execution_count": 11,
   "metadata": {},
   "outputs": [
    {
     "ename": "AttributeError",
     "evalue": "'GridSearchCV' object has no attribute 'best_params_'",
     "output_type": "error",
     "traceback": [
      "\u001b[0;31m---------------------------------------------------------------------------\u001b[0m",
      "\u001b[0;31mAttributeError\u001b[0m                            Traceback (most recent call last)",
      "\u001b[0;32m<ipython-input-11-1e2627865382>\u001b[0m in \u001b[0;36m<module>\u001b[0;34m\u001b[0m\n\u001b[0;32m----> 1\u001b[0;31m \u001b[0mprint\u001b[0m\u001b[0;34m(\u001b[0m\u001b[0;34m\"Best p={}\"\u001b[0m\u001b[0;34m.\u001b[0m\u001b[0mformat\u001b[0m\u001b[0;34m(\u001b[0m\u001b[0msearch\u001b[0m\u001b[0;34m.\u001b[0m\u001b[0mbest_params_\u001b[0m\u001b[0;34m[\u001b[0m\u001b[0;34m'p'\u001b[0m\u001b[0;34m]\u001b[0m\u001b[0;34m)\u001b[0m\u001b[0;34m)\u001b[0m\u001b[0;34m\u001b[0m\u001b[0;34m\u001b[0m\u001b[0m\n\u001b[0m\u001b[1;32m      2\u001b[0m \u001b[0mindex\u001b[0m \u001b[0;34m=\u001b[0m \u001b[0msearch\u001b[0m\u001b[0;34m.\u001b[0m\u001b[0mparam_grid\u001b[0m\u001b[0;34m[\u001b[0m\u001b[0;34m'p'\u001b[0m\u001b[0;34m]\u001b[0m\u001b[0;34m.\u001b[0m\u001b[0mindex\u001b[0m\u001b[0;34m(\u001b[0m\u001b[0msearch\u001b[0m\u001b[0;34m.\u001b[0m\u001b[0mbest_params_\u001b[0m\u001b[0;34m[\u001b[0m\u001b[0;34m'p'\u001b[0m\u001b[0;34m]\u001b[0m\u001b[0;34m)\u001b[0m\u001b[0;34m\u001b[0m\u001b[0;34m\u001b[0m\u001b[0m\n\u001b[1;32m      3\u001b[0m \u001b[0mprint\u001b[0m\u001b[0;34m(\u001b[0m\u001b[0;34m\"mean_test_score={}\"\u001b[0m\u001b[0;34m.\u001b[0m\u001b[0mformat\u001b[0m\u001b[0;34m(\u001b[0m\u001b[0msearch\u001b[0m\u001b[0;34m.\u001b[0m\u001b[0mcv_results_\u001b[0m\u001b[0;34m[\u001b[0m\u001b[0;34m'mean_test_score'\u001b[0m\u001b[0;34m]\u001b[0m\u001b[0;34m[\u001b[0m\u001b[0mindex\u001b[0m\u001b[0;34m]\u001b[0m\u001b[0;34m)\u001b[0m\u001b[0;34m)\u001b[0m\u001b[0;34m\u001b[0m\u001b[0;34m\u001b[0m\u001b[0m\n\u001b[1;32m      4\u001b[0m \u001b[0mprint\u001b[0m\u001b[0;34m(\u001b[0m\u001b[0;34m\"std_test_score={}\"\u001b[0m\u001b[0;34m.\u001b[0m\u001b[0mformat\u001b[0m\u001b[0;34m(\u001b[0m\u001b[0msearch\u001b[0m\u001b[0;34m.\u001b[0m\u001b[0mcv_results_\u001b[0m\u001b[0;34m[\u001b[0m\u001b[0;34m'std_test_score'\u001b[0m\u001b[0;34m]\u001b[0m\u001b[0;34m[\u001b[0m\u001b[0mindex\u001b[0m\u001b[0;34m]\u001b[0m\u001b[0;34m)\u001b[0m\u001b[0;34m)\u001b[0m\u001b[0;34m\u001b[0m\u001b[0;34m\u001b[0m\u001b[0m\n",
      "\u001b[0;31mAttributeError\u001b[0m: 'GridSearchCV' object has no attribute 'best_params_'"
     ]
    }
   ],
   "source": [
    "print(\"Best p={}\".format(search.best_params_['p']))\n",
    "index = search.param_grid['p'].index(search.best_params_['p'])\n",
    "print(\"mean_test_score={}\".format(search.cv_results_['mean_test_score'][index]))\n",
    "print(\"std_test_score={}\".format(search.cv_results_['std_test_score'][index]))"
   ]
  },
  {
   "cell_type": "markdown",
   "metadata": {
    "colab_type": "text",
    "id": "95FbhY1JRk2S"
   },
   "source": [
    "# Счетчики (6 баллов)\n",
    "\n",
    "Очевидно, что предсказывать лейбл объекта, используя при этом метрический алгоритм на категориальных признаках - это ОЧЕНЬ странная затея. Не удивительно что качество ужасное. Необходимо каким-то образом заменить категориальные признаки вещественными:\n",
    "\n",
    "- OneHotEncoding - это когда для каждого признака создают другие N бинарных признаков, где N - это количество категорий у категориального признака.\n",
    "- Счетчики - об это написано в статье http://blogs.technet.com/b/machinelearning/archive/2015/02/17/big-learning-made-easy-with-counts.aspx.\n",
    "\n",
    "Мы реализуем алгоритм Счетчиков. Его нет в sklearn, поэтому придется реализовать самому. \n",
    "\n",
    "Для каждого категориального признака создайте 3 других признака:\n",
    "1. Число `counts` объектов в обучающей выборке с таким же значением признака.\n",
    "2. Число `successes` объектов первого класса ($y = 1$) в обучающей выборке с таким же значением признака.\n",
    "3. Сглаженное отношение двух предыдущих величин: (`successes` + 1) / (`counts` + 2).\n",
    "\n",
    "Поскольку признаки, содержащие информацию о целевой переменной, могут привести к переобучению, может оказаться полезным сделать *фолдинг*: разбить обучающую выборку на $n$ частей, и для $i$-й части считать `counts` и `successes` по всем остальным частям. Для тестовой выборки используются счетчики, посчитанные по всей обучающей выборке. Реализуйте и такой вариант. Можно использовать $n = 3$.\n",
    "\n",
    "Обучение надо проводить только по новым признакам. Изначальные мы не используем.\n",
    "\n",
    "Подсказка - вам нужно для каждой колонки посчитать 2 аггрегации - сумму и количество. Для замены конкретного значения посчитанным используйте функцию apply над датафреймом. Простое решение займет около 10 строк кода."
   ]
  },
  {
   "cell_type": "markdown",
   "metadata": {
    "colab_type": "text",
    "id": "peoX3U3iRk2U"
   },
   "source": [
    "![](http://images6.fanpop.com/image/photos/38600000/taiga-iamyourenemy-38620719-282-160.gif)"
   ]
  },
  {
   "cell_type": "code",
   "execution_count": 12,
   "metadata": {
    "colab": {},
    "colab_type": "code",
    "id": "vpIeFCGyRk2V"
   },
   "outputs": [
    {
     "data": {
      "text/html": [
       "<div>\n",
       "<style scoped>\n",
       "    .dataframe tbody tr th:only-of-type {\n",
       "        vertical-align: middle;\n",
       "    }\n",
       "\n",
       "    .dataframe tbody tr th {\n",
       "        vertical-align: top;\n",
       "    }\n",
       "\n",
       "    .dataframe thead th {\n",
       "        text-align: right;\n",
       "    }\n",
       "</style>\n",
       "<table border=\"1\" class=\"dataframe\">\n",
       "  <thead>\n",
       "    <tr style=\"text-align: right;\">\n",
       "      <th></th>\n",
       "      <th>RESOURCE_counts</th>\n",
       "      <th>RESOURCE_successes</th>\n",
       "      <th>RESOURCE_c/s</th>\n",
       "      <th>MGR_ID_counts</th>\n",
       "      <th>MGR_ID_successes</th>\n",
       "      <th>MGR_ID_c/s</th>\n",
       "      <th>ROLE_ROLLUP_1_counts</th>\n",
       "      <th>ROLE_ROLLUP_1_successes</th>\n",
       "      <th>ROLE_ROLLUP_1_c/s</th>\n",
       "      <th>ROLE_ROLLUP_2_counts</th>\n",
       "      <th>...</th>\n",
       "      <th>ROLE_TITLE_c/s</th>\n",
       "      <th>ROLE_FAMILY_DESC_counts</th>\n",
       "      <th>ROLE_FAMILY_DESC_successes</th>\n",
       "      <th>ROLE_FAMILY_DESC_c/s</th>\n",
       "      <th>ROLE_FAMILY_counts</th>\n",
       "      <th>ROLE_FAMILY_successes</th>\n",
       "      <th>ROLE_FAMILY_c/s</th>\n",
       "      <th>ROLE_CODE_counts</th>\n",
       "      <th>ROLE_CODE_successes</th>\n",
       "      <th>ROLE_CODE_c/s</th>\n",
       "    </tr>\n",
       "  </thead>\n",
       "  <tbody>\n",
       "    <tr>\n",
       "      <td>0</td>\n",
       "      <td>3</td>\n",
       "      <td>3</td>\n",
       "      <td>0.800000</td>\n",
       "      <td>55</td>\n",
       "      <td>55</td>\n",
       "      <td>0.982456</td>\n",
       "      <td>21407</td>\n",
       "      <td>20320</td>\n",
       "      <td>0.949180</td>\n",
       "      <td>4424</td>\n",
       "      <td>...</td>\n",
       "      <td>0.967364</td>\n",
       "      <td>6896</td>\n",
       "      <td>6437</td>\n",
       "      <td>0.933314</td>\n",
       "      <td>10980</td>\n",
       "      <td>10347</td>\n",
       "      <td>0.942269</td>\n",
       "      <td>3583</td>\n",
       "      <td>3467</td>\n",
       "      <td>0.967364</td>\n",
       "    </tr>\n",
       "    <tr>\n",
       "      <td>1</td>\n",
       "      <td>30</td>\n",
       "      <td>29</td>\n",
       "      <td>0.937500</td>\n",
       "      <td>10</td>\n",
       "      <td>10</td>\n",
       "      <td>0.916667</td>\n",
       "      <td>21407</td>\n",
       "      <td>20320</td>\n",
       "      <td>0.949180</td>\n",
       "      <td>3945</td>\n",
       "      <td>...</td>\n",
       "      <td>0.951807</td>\n",
       "      <td>12</td>\n",
       "      <td>12</td>\n",
       "      <td>0.928571</td>\n",
       "      <td>1287</td>\n",
       "      <td>1220</td>\n",
       "      <td>0.947246</td>\n",
       "      <td>81</td>\n",
       "      <td>78</td>\n",
       "      <td>0.951807</td>\n",
       "    </tr>\n",
       "    <tr>\n",
       "      <td>2</td>\n",
       "      <td>2</td>\n",
       "      <td>2</td>\n",
       "      <td>0.750000</td>\n",
       "      <td>3</td>\n",
       "      <td>3</td>\n",
       "      <td>0.800000</td>\n",
       "      <td>184</td>\n",
       "      <td>169</td>\n",
       "      <td>0.913978</td>\n",
       "      <td>184</td>\n",
       "      <td>...</td>\n",
       "      <td>0.888712</td>\n",
       "      <td>33</td>\n",
       "      <td>31</td>\n",
       "      <td>0.914286</td>\n",
       "      <td>2636</td>\n",
       "      <td>2393</td>\n",
       "      <td>0.907506</td>\n",
       "      <td>1256</td>\n",
       "      <td>1117</td>\n",
       "      <td>0.888712</td>\n",
       "    </tr>\n",
       "    <tr>\n",
       "      <td>3</td>\n",
       "      <td>1</td>\n",
       "      <td>1</td>\n",
       "      <td>0.666667</td>\n",
       "      <td>62</td>\n",
       "      <td>62</td>\n",
       "      <td>0.984375</td>\n",
       "      <td>21407</td>\n",
       "      <td>20320</td>\n",
       "      <td>0.949180</td>\n",
       "      <td>3945</td>\n",
       "      <td>...</td>\n",
       "      <td>0.920232</td>\n",
       "      <td>1244</td>\n",
       "      <td>1189</td>\n",
       "      <td>0.955056</td>\n",
       "      <td>10980</td>\n",
       "      <td>10347</td>\n",
       "      <td>0.942269</td>\n",
       "      <td>4649</td>\n",
       "      <td>4279</td>\n",
       "      <td>0.920232</td>\n",
       "    </tr>\n",
       "    <tr>\n",
       "      <td>4</td>\n",
       "      <td>8</td>\n",
       "      <td>8</td>\n",
       "      <td>0.900000</td>\n",
       "      <td>9</td>\n",
       "      <td>9</td>\n",
       "      <td>0.909091</td>\n",
       "      <td>276</td>\n",
       "      <td>257</td>\n",
       "      <td>0.928058</td>\n",
       "      <td>138</td>\n",
       "      <td>...</td>\n",
       "      <td>0.857143</td>\n",
       "      <td>19</td>\n",
       "      <td>18</td>\n",
       "      <td>0.904762</td>\n",
       "      <td>362</td>\n",
       "      <td>303</td>\n",
       "      <td>0.835165</td>\n",
       "      <td>75</td>\n",
       "      <td>65</td>\n",
       "      <td>0.857143</td>\n",
       "    </tr>\n",
       "    <tr>\n",
       "      <td>...</td>\n",
       "      <td>...</td>\n",
       "      <td>...</td>\n",
       "      <td>...</td>\n",
       "      <td>...</td>\n",
       "      <td>...</td>\n",
       "      <td>...</td>\n",
       "      <td>...</td>\n",
       "      <td>...</td>\n",
       "      <td>...</td>\n",
       "      <td>...</td>\n",
       "      <td>...</td>\n",
       "      <td>...</td>\n",
       "      <td>...</td>\n",
       "      <td>...</td>\n",
       "      <td>...</td>\n",
       "      <td>...</td>\n",
       "      <td>...</td>\n",
       "      <td>...</td>\n",
       "      <td>...</td>\n",
       "      <td>...</td>\n",
       "      <td>...</td>\n",
       "    </tr>\n",
       "    <tr>\n",
       "      <td>32764</td>\n",
       "      <td>51</td>\n",
       "      <td>46</td>\n",
       "      <td>0.886792</td>\n",
       "      <td>29</td>\n",
       "      <td>28</td>\n",
       "      <td>0.935484</td>\n",
       "      <td>21407</td>\n",
       "      <td>20320</td>\n",
       "      <td>0.949180</td>\n",
       "      <td>4424</td>\n",
       "      <td>...</td>\n",
       "      <td>0.920232</td>\n",
       "      <td>1244</td>\n",
       "      <td>1189</td>\n",
       "      <td>0.955056</td>\n",
       "      <td>10980</td>\n",
       "      <td>10347</td>\n",
       "      <td>0.942269</td>\n",
       "      <td>4649</td>\n",
       "      <td>4279</td>\n",
       "      <td>0.920232</td>\n",
       "    </tr>\n",
       "    <tr>\n",
       "      <td>32765</td>\n",
       "      <td>2</td>\n",
       "      <td>2</td>\n",
       "      <td>0.750000</td>\n",
       "      <td>9</td>\n",
       "      <td>9</td>\n",
       "      <td>0.909091</td>\n",
       "      <td>721</td>\n",
       "      <td>695</td>\n",
       "      <td>0.962656</td>\n",
       "      <td>721</td>\n",
       "      <td>...</td>\n",
       "      <td>0.961538</td>\n",
       "      <td>5</td>\n",
       "      <td>5</td>\n",
       "      <td>0.857143</td>\n",
       "      <td>224</td>\n",
       "      <td>219</td>\n",
       "      <td>0.973451</td>\n",
       "      <td>24</td>\n",
       "      <td>24</td>\n",
       "      <td>0.961538</td>\n",
       "    </tr>\n",
       "    <tr>\n",
       "      <td>32766</td>\n",
       "      <td>161</td>\n",
       "      <td>155</td>\n",
       "      <td>0.957055</td>\n",
       "      <td>5</td>\n",
       "      <td>5</td>\n",
       "      <td>0.857143</td>\n",
       "      <td>21407</td>\n",
       "      <td>20320</td>\n",
       "      <td>0.949180</td>\n",
       "      <td>2641</td>\n",
       "      <td>...</td>\n",
       "      <td>0.800000</td>\n",
       "      <td>2</td>\n",
       "      <td>2</td>\n",
       "      <td>0.750000</td>\n",
       "      <td>78</td>\n",
       "      <td>76</td>\n",
       "      <td>0.962500</td>\n",
       "      <td>3</td>\n",
       "      <td>3</td>\n",
       "      <td>0.800000</td>\n",
       "    </tr>\n",
       "    <tr>\n",
       "      <td>32767</td>\n",
       "      <td>7</td>\n",
       "      <td>7</td>\n",
       "      <td>0.888889</td>\n",
       "      <td>16</td>\n",
       "      <td>11</td>\n",
       "      <td>0.666667</td>\n",
       "      <td>275</td>\n",
       "      <td>202</td>\n",
       "      <td>0.732852</td>\n",
       "      <td>257</td>\n",
       "      <td>...</td>\n",
       "      <td>0.911616</td>\n",
       "      <td>244</td>\n",
       "      <td>210</td>\n",
       "      <td>0.857724</td>\n",
       "      <td>1318</td>\n",
       "      <td>1137</td>\n",
       "      <td>0.862121</td>\n",
       "      <td>394</td>\n",
       "      <td>360</td>\n",
       "      <td>0.911616</td>\n",
       "    </tr>\n",
       "    <tr>\n",
       "      <td>32768</td>\n",
       "      <td>127</td>\n",
       "      <td>115</td>\n",
       "      <td>0.899225</td>\n",
       "      <td>8</td>\n",
       "      <td>8</td>\n",
       "      <td>0.900000</td>\n",
       "      <td>295</td>\n",
       "      <td>273</td>\n",
       "      <td>0.922559</td>\n",
       "      <td>93</td>\n",
       "      <td>...</td>\n",
       "      <td>0.924402</td>\n",
       "      <td>28</td>\n",
       "      <td>28</td>\n",
       "      <td>0.966667</td>\n",
       "      <td>2636</td>\n",
       "      <td>2393</td>\n",
       "      <td>0.907506</td>\n",
       "      <td>1043</td>\n",
       "      <td>965</td>\n",
       "      <td>0.924402</td>\n",
       "    </tr>\n",
       "  </tbody>\n",
       "</table>\n",
       "<p>32769 rows × 27 columns</p>\n",
       "</div>"
      ],
      "text/plain": [
       "       RESOURCE_counts  RESOURCE_successes  RESOURCE_c/s  MGR_ID_counts  \\\n",
       "0                    3                   3      0.800000             55   \n",
       "1                   30                  29      0.937500             10   \n",
       "2                    2                   2      0.750000              3   \n",
       "3                    1                   1      0.666667             62   \n",
       "4                    8                   8      0.900000              9   \n",
       "...                ...                 ...           ...            ...   \n",
       "32764               51                  46      0.886792             29   \n",
       "32765                2                   2      0.750000              9   \n",
       "32766              161                 155      0.957055              5   \n",
       "32767                7                   7      0.888889             16   \n",
       "32768              127                 115      0.899225              8   \n",
       "\n",
       "       MGR_ID_successes  MGR_ID_c/s  ROLE_ROLLUP_1_counts  \\\n",
       "0                    55    0.982456                 21407   \n",
       "1                    10    0.916667                 21407   \n",
       "2                     3    0.800000                   184   \n",
       "3                    62    0.984375                 21407   \n",
       "4                     9    0.909091                   276   \n",
       "...                 ...         ...                   ...   \n",
       "32764                28    0.935484                 21407   \n",
       "32765                 9    0.909091                   721   \n",
       "32766                 5    0.857143                 21407   \n",
       "32767                11    0.666667                   275   \n",
       "32768                 8    0.900000                   295   \n",
       "\n",
       "       ROLE_ROLLUP_1_successes  ROLE_ROLLUP_1_c/s  ROLE_ROLLUP_2_counts  ...  \\\n",
       "0                        20320           0.949180                  4424  ...   \n",
       "1                        20320           0.949180                  3945  ...   \n",
       "2                          169           0.913978                   184  ...   \n",
       "3                        20320           0.949180                  3945  ...   \n",
       "4                          257           0.928058                   138  ...   \n",
       "...                        ...                ...                   ...  ...   \n",
       "32764                    20320           0.949180                  4424  ...   \n",
       "32765                      695           0.962656                   721  ...   \n",
       "32766                    20320           0.949180                  2641  ...   \n",
       "32767                      202           0.732852                   257  ...   \n",
       "32768                      273           0.922559                    93  ...   \n",
       "\n",
       "       ROLE_TITLE_c/s  ROLE_FAMILY_DESC_counts  ROLE_FAMILY_DESC_successes  \\\n",
       "0            0.967364                     6896                        6437   \n",
       "1            0.951807                       12                          12   \n",
       "2            0.888712                       33                          31   \n",
       "3            0.920232                     1244                        1189   \n",
       "4            0.857143                       19                          18   \n",
       "...               ...                      ...                         ...   \n",
       "32764        0.920232                     1244                        1189   \n",
       "32765        0.961538                        5                           5   \n",
       "32766        0.800000                        2                           2   \n",
       "32767        0.911616                      244                         210   \n",
       "32768        0.924402                       28                          28   \n",
       "\n",
       "       ROLE_FAMILY_DESC_c/s  ROLE_FAMILY_counts  ROLE_FAMILY_successes  \\\n",
       "0                  0.933314               10980                  10347   \n",
       "1                  0.928571                1287                   1220   \n",
       "2                  0.914286                2636                   2393   \n",
       "3                  0.955056               10980                  10347   \n",
       "4                  0.904762                 362                    303   \n",
       "...                     ...                 ...                    ...   \n",
       "32764              0.955056               10980                  10347   \n",
       "32765              0.857143                 224                    219   \n",
       "32766              0.750000                  78                     76   \n",
       "32767              0.857724                1318                   1137   \n",
       "32768              0.966667                2636                   2393   \n",
       "\n",
       "       ROLE_FAMILY_c/s  ROLE_CODE_counts  ROLE_CODE_successes  ROLE_CODE_c/s  \n",
       "0             0.942269              3583                 3467       0.967364  \n",
       "1             0.947246                81                   78       0.951807  \n",
       "2             0.907506              1256                 1117       0.888712  \n",
       "3             0.942269              4649                 4279       0.920232  \n",
       "4             0.835165                75                   65       0.857143  \n",
       "...                ...               ...                  ...            ...  \n",
       "32764         0.942269              4649                 4279       0.920232  \n",
       "32765         0.973451                24                   24       0.961538  \n",
       "32766         0.962500                 3                    3       0.800000  \n",
       "32767         0.862121               394                  360       0.911616  \n",
       "32768         0.907506              1043                  965       0.924402  \n",
       "\n",
       "[32769 rows x 27 columns]"
      ]
     },
     "execution_count": 12,
     "metadata": {},
     "output_type": "execute_result"
    }
   ],
   "source": [
    "data = pd.DataFrame(index=df.index)\n",
    "for col_name in df.columns:\n",
    "    if col_name == 'ACTION':\n",
    "        continue\n",
    "    # ТУТ ВАШ КОД\n",
    "    counts = df.groupby(col_name).count()['ACTION']\n",
    "    successes = df.groupby(col_name).sum()['ACTION']\n",
    "    data[col_name+'_counts'] = df[col_name].apply(lambda x: counts[x])\n",
    "    data[col_name+'_successes'] = df[col_name].apply(lambda x: successes[x])\n",
    "    data[col_name+'_c/s'] = (data[col_name+'_successes'] + 1) / (data[col_name+'_counts'] + 2)\n",
    "    \n",
    "data"
   ]
  },
  {
   "cell_type": "markdown",
   "metadata": {
    "colab_type": "text",
    "id": "_LI0_45SRk2b"
   },
   "source": [
    "Проверьте какое качество теперь получается на кроссвалидации для новых данных."
   ]
  },
  {
   "cell_type": "code",
   "execution_count": 11,
   "metadata": {
    "colab": {},
    "colab_type": "code",
    "id": "SlspS3fhRk2e"
   },
   "outputs": [
    {
     "data": {
      "text/plain": [
       "(0.9471755211248818, 0.001448333363661077)"
      ]
     },
     "execution_count": 11,
     "metadata": {},
     "output_type": "execute_result"
    }
   ],
   "source": [
    "from sklearn.model_selection import cross_val_score\n",
    "X = data\n",
    "y = df['ACTION']\n",
    "X_train, X_test, y_train, y_test = train_test_split(X, y, random_state=42, test_size=0.8)\n",
    "res = cross_val_score(KNeighborsClassifier(n_neighbors=5, p=2), X, y, cv=5)\n",
    "res.mean(), res.std()"
   ]
  },
  {
   "cell_type": "markdown",
   "metadata": {
    "colab_type": "text",
    "id": "sLAn1dmIRk2j"
   },
   "source": [
    "- постройте отчет классификации (classification_report)\n",
    "- постройте confusion matrix и нарисуйте heatmap\n",
    "\n",
    "Оцените на сколько улучшилось качество."
   ]
  },
  {
   "cell_type": "code",
   "execution_count": 12,
   "metadata": {
    "colab": {},
    "colab_type": "code",
    "id": "bTc0HkBTRk2l"
   },
   "outputs": [
    {
     "name": "stdout",
     "output_type": "stream",
     "text": [
      "              precision    recall  f1-score   support\n",
      "\n",
      "           0       0.47      0.11      0.17      1534\n",
      "           1       0.95      0.99      0.97     24682\n",
      "\n",
      "    accuracy                           0.94     26216\n",
      "   macro avg       0.71      0.55      0.57     26216\n",
      "weighted avg       0.92      0.94      0.92     26216\n",
      "\n"
     ]
    }
   ],
   "source": [
    "knc = KNeighborsClassifier(n_neighbors=5, p=2)\n",
    "knc.fit(X_train, y_train)\n",
    "y_pred = knc.predict(X_test)\n",
    "print(classification_report(y_test, y_pred))"
   ]
  },
  {
   "cell_type": "code",
   "execution_count": 13,
   "metadata": {},
   "outputs": [
    {
     "data": {
      "text/plain": [
       "<matplotlib.axes._subplots.AxesSubplot at 0x7fa18cad8208>"
      ]
     },
     "execution_count": 13,
     "metadata": {},
     "output_type": "execute_result"
    },
    {
     "data": {
      "image/png": "[encoded data removed]",
      "text/plain": [
       "<Figure size 864x864 with 2 Axes>"
      ]
     },
     "metadata": {
      "needs_background": "light"
     },
     "output_type": "display_data"
    }
   ],
   "source": [
    "akws = {\"ha\": 'center',\"va\": 'bottom'}\n",
    "plt.figure(figsize=(12,12))\n",
    "sns.heatmap(confusion_matrix(y_test, y_pred), cmap=plt.cm.Blues, square=True, annot=True, fmt='.4g', annot_kws=akws)"
   ]
  },
  {
   "cell_type": "markdown",
   "metadata": {
    "colab_type": "text",
    "id": "xr0h7eJeRk2s"
   },
   "source": [
    "# Co-co-co-combo (5 баллов)\n",
    "\n",
    "Добавьте в исходную выборку парные признаки — то есть для каждой пары $(f_i, f_j)$, $i < j$ исходных категориальных признаков добавьте новый категориальный признак $f_{ij}$, значение которого является конкатенацией значений $f_i$ и $f_j$ (желательно через какой-нибудь специальный символ во избежание коллизий). Посчитайте счетчики для этой выборки, найдите качество метода $k$ ближайших соседей с наилучшим $k$ (с фолдингом и без)."
   ]
  },
  {
   "cell_type": "code",
   "execution_count": 13,
   "metadata": {
    "colab": {},
    "colab_type": "code",
    "id": "WX1unyFARk2t"
   },
   "outputs": [
    {
     "data": {
      "text/html": [
       "<div>\n",
       "<style scoped>\n",
       "    .dataframe tbody tr th:only-of-type {\n",
       "        vertical-align: middle;\n",
       "    }\n",
       "\n",
       "    .dataframe tbody tr th {\n",
       "        vertical-align: top;\n",
       "    }\n",
       "\n",
       "    .dataframe thead th {\n",
       "        text-align: right;\n",
       "    }\n",
       "</style>\n",
       "<table border=\"1\" class=\"dataframe\">\n",
       "  <thead>\n",
       "    <tr style=\"text-align: right;\">\n",
       "      <th></th>\n",
       "      <th>ACTION</th>\n",
       "      <th>RESOURCE</th>\n",
       "      <th>MGR_ID</th>\n",
       "      <th>ROLE_ROLLUP_1</th>\n",
       "      <th>ROLE_ROLLUP_2</th>\n",
       "      <th>ROLE_DEPTNAME</th>\n",
       "      <th>ROLE_TITLE</th>\n",
       "      <th>ROLE_FAMILY_DESC</th>\n",
       "      <th>ROLE_FAMILY</th>\n",
       "      <th>ROLE_CODE</th>\n",
       "      <th>...</th>\n",
       "      <th>ROLE_DEPTNAME#ROLE_TITLE</th>\n",
       "      <th>ROLE_DEPTNAME#ROLE_FAMILY_DESC</th>\n",
       "      <th>ROLE_DEPTNAME#ROLE_FAMILY</th>\n",
       "      <th>ROLE_DEPTNAME#ROLE_CODE</th>\n",
       "      <th>ROLE_TITLE#ROLE_FAMILY_DESC</th>\n",
       "      <th>ROLE_TITLE#ROLE_FAMILY</th>\n",
       "      <th>ROLE_TITLE#ROLE_CODE</th>\n",
       "      <th>ROLE_FAMILY_DESC#ROLE_FAMILY</th>\n",
       "      <th>ROLE_FAMILY_DESC#ROLE_CODE</th>\n",
       "      <th>ROLE_FAMILY#ROLE_CODE</th>\n",
       "    </tr>\n",
       "  </thead>\n",
       "  <tbody>\n",
       "    <tr>\n",
       "      <td>0</td>\n",
       "      <td>1</td>\n",
       "      <td>39353</td>\n",
       "      <td>85475</td>\n",
       "      <td>117961</td>\n",
       "      <td>118300</td>\n",
       "      <td>123472</td>\n",
       "      <td>117905</td>\n",
       "      <td>117906</td>\n",
       "      <td>290919</td>\n",
       "      <td>117908</td>\n",
       "      <td>...</td>\n",
       "      <td>123472#117905</td>\n",
       "      <td>123472#117906</td>\n",
       "      <td>123472#290919</td>\n",
       "      <td>123472#117908</td>\n",
       "      <td>117905#117906</td>\n",
       "      <td>117905#290919</td>\n",
       "      <td>117905#117908</td>\n",
       "      <td>117906#290919</td>\n",
       "      <td>117906#117908</td>\n",
       "      <td>290919#117908</td>\n",
       "    </tr>\n",
       "    <tr>\n",
       "      <td>1</td>\n",
       "      <td>1</td>\n",
       "      <td>17183</td>\n",
       "      <td>1540</td>\n",
       "      <td>117961</td>\n",
       "      <td>118343</td>\n",
       "      <td>123125</td>\n",
       "      <td>118536</td>\n",
       "      <td>118536</td>\n",
       "      <td>308574</td>\n",
       "      <td>118539</td>\n",
       "      <td>...</td>\n",
       "      <td>123125#118536</td>\n",
       "      <td>123125#118536</td>\n",
       "      <td>123125#308574</td>\n",
       "      <td>123125#118539</td>\n",
       "      <td>118536#118536</td>\n",
       "      <td>118536#308574</td>\n",
       "      <td>118536#118539</td>\n",
       "      <td>118536#308574</td>\n",
       "      <td>118536#118539</td>\n",
       "      <td>308574#118539</td>\n",
       "    </tr>\n",
       "    <tr>\n",
       "      <td>2</td>\n",
       "      <td>1</td>\n",
       "      <td>36724</td>\n",
       "      <td>14457</td>\n",
       "      <td>118219</td>\n",
       "      <td>118220</td>\n",
       "      <td>117884</td>\n",
       "      <td>117879</td>\n",
       "      <td>267952</td>\n",
       "      <td>19721</td>\n",
       "      <td>117880</td>\n",
       "      <td>...</td>\n",
       "      <td>117884#117879</td>\n",
       "      <td>117884#267952</td>\n",
       "      <td>117884#19721</td>\n",
       "      <td>117884#117880</td>\n",
       "      <td>117879#267952</td>\n",
       "      <td>117879#19721</td>\n",
       "      <td>117879#117880</td>\n",
       "      <td>267952#19721</td>\n",
       "      <td>267952#117880</td>\n",
       "      <td>19721#117880</td>\n",
       "    </tr>\n",
       "    <tr>\n",
       "      <td>3</td>\n",
       "      <td>1</td>\n",
       "      <td>36135</td>\n",
       "      <td>5396</td>\n",
       "      <td>117961</td>\n",
       "      <td>118343</td>\n",
       "      <td>119993</td>\n",
       "      <td>118321</td>\n",
       "      <td>240983</td>\n",
       "      <td>290919</td>\n",
       "      <td>118322</td>\n",
       "      <td>...</td>\n",
       "      <td>119993#118321</td>\n",
       "      <td>119993#240983</td>\n",
       "      <td>119993#290919</td>\n",
       "      <td>119993#118322</td>\n",
       "      <td>118321#240983</td>\n",
       "      <td>118321#290919</td>\n",
       "      <td>118321#118322</td>\n",
       "      <td>240983#290919</td>\n",
       "      <td>240983#118322</td>\n",
       "      <td>290919#118322</td>\n",
       "    </tr>\n",
       "    <tr>\n",
       "      <td>4</td>\n",
       "      <td>1</td>\n",
       "      <td>42680</td>\n",
       "      <td>5905</td>\n",
       "      <td>117929</td>\n",
       "      <td>117930</td>\n",
       "      <td>119569</td>\n",
       "      <td>119323</td>\n",
       "      <td>123932</td>\n",
       "      <td>19793</td>\n",
       "      <td>119325</td>\n",
       "      <td>...</td>\n",
       "      <td>119569#119323</td>\n",
       "      <td>119569#123932</td>\n",
       "      <td>119569#19793</td>\n",
       "      <td>119569#119325</td>\n",
       "      <td>119323#123932</td>\n",
       "      <td>119323#19793</td>\n",
       "      <td>119323#119325</td>\n",
       "      <td>123932#19793</td>\n",
       "      <td>123932#119325</td>\n",
       "      <td>19793#119325</td>\n",
       "    </tr>\n",
       "    <tr>\n",
       "      <td>...</td>\n",
       "      <td>...</td>\n",
       "      <td>...</td>\n",
       "      <td>...</td>\n",
       "      <td>...</td>\n",
       "      <td>...</td>\n",
       "      <td>...</td>\n",
       "      <td>...</td>\n",
       "      <td>...</td>\n",
       "      <td>...</td>\n",
       "      <td>...</td>\n",
       "      <td>...</td>\n",
       "      <td>...</td>\n",
       "      <td>...</td>\n",
       "      <td>...</td>\n",
       "      <td>...</td>\n",
       "      <td>...</td>\n",
       "      <td>...</td>\n",
       "      <td>...</td>\n",
       "      <td>...</td>\n",
       "      <td>...</td>\n",
       "      <td>...</td>\n",
       "    </tr>\n",
       "    <tr>\n",
       "      <td>32764</td>\n",
       "      <td>1</td>\n",
       "      <td>23497</td>\n",
       "      <td>16971</td>\n",
       "      <td>117961</td>\n",
       "      <td>118300</td>\n",
       "      <td>119993</td>\n",
       "      <td>118321</td>\n",
       "      <td>240983</td>\n",
       "      <td>290919</td>\n",
       "      <td>118322</td>\n",
       "      <td>...</td>\n",
       "      <td>119993#118321</td>\n",
       "      <td>119993#240983</td>\n",
       "      <td>119993#290919</td>\n",
       "      <td>119993#118322</td>\n",
       "      <td>118321#240983</td>\n",
       "      <td>118321#290919</td>\n",
       "      <td>118321#118322</td>\n",
       "      <td>240983#290919</td>\n",
       "      <td>240983#118322</td>\n",
       "      <td>290919#118322</td>\n",
       "    </tr>\n",
       "    <tr>\n",
       "      <td>32765</td>\n",
       "      <td>1</td>\n",
       "      <td>25139</td>\n",
       "      <td>311198</td>\n",
       "      <td>91261</td>\n",
       "      <td>118026</td>\n",
       "      <td>122392</td>\n",
       "      <td>121143</td>\n",
       "      <td>173805</td>\n",
       "      <td>249618</td>\n",
       "      <td>121145</td>\n",
       "      <td>...</td>\n",
       "      <td>122392#121143</td>\n",
       "      <td>122392#173805</td>\n",
       "      <td>122392#249618</td>\n",
       "      <td>122392#121145</td>\n",
       "      <td>121143#173805</td>\n",
       "      <td>121143#249618</td>\n",
       "      <td>121143#121145</td>\n",
       "      <td>173805#249618</td>\n",
       "      <td>173805#121145</td>\n",
       "      <td>249618#121145</td>\n",
       "    </tr>\n",
       "    <tr>\n",
       "      <td>32766</td>\n",
       "      <td>1</td>\n",
       "      <td>34924</td>\n",
       "      <td>28805</td>\n",
       "      <td>117961</td>\n",
       "      <td>118327</td>\n",
       "      <td>120299</td>\n",
       "      <td>124922</td>\n",
       "      <td>152038</td>\n",
       "      <td>118612</td>\n",
       "      <td>124924</td>\n",
       "      <td>...</td>\n",
       "      <td>120299#124922</td>\n",
       "      <td>120299#152038</td>\n",
       "      <td>120299#118612</td>\n",
       "      <td>120299#124924</td>\n",
       "      <td>124922#152038</td>\n",
       "      <td>124922#118612</td>\n",
       "      <td>124922#124924</td>\n",
       "      <td>152038#118612</td>\n",
       "      <td>152038#124924</td>\n",
       "      <td>118612#124924</td>\n",
       "    </tr>\n",
       "    <tr>\n",
       "      <td>32767</td>\n",
       "      <td>1</td>\n",
       "      <td>80574</td>\n",
       "      <td>55643</td>\n",
       "      <td>118256</td>\n",
       "      <td>118257</td>\n",
       "      <td>117945</td>\n",
       "      <td>280788</td>\n",
       "      <td>280788</td>\n",
       "      <td>292795</td>\n",
       "      <td>119082</td>\n",
       "      <td>...</td>\n",
       "      <td>117945#280788</td>\n",
       "      <td>117945#280788</td>\n",
       "      <td>117945#292795</td>\n",
       "      <td>117945#119082</td>\n",
       "      <td>280788#280788</td>\n",
       "      <td>280788#292795</td>\n",
       "      <td>280788#119082</td>\n",
       "      <td>280788#292795</td>\n",
       "      <td>280788#119082</td>\n",
       "      <td>292795#119082</td>\n",
       "    </tr>\n",
       "    <tr>\n",
       "      <td>32768</td>\n",
       "      <td>1</td>\n",
       "      <td>14354</td>\n",
       "      <td>59575</td>\n",
       "      <td>117916</td>\n",
       "      <td>118150</td>\n",
       "      <td>117920</td>\n",
       "      <td>118568</td>\n",
       "      <td>122142</td>\n",
       "      <td>19721</td>\n",
       "      <td>118570</td>\n",
       "      <td>...</td>\n",
       "      <td>117920#118568</td>\n",
       "      <td>117920#122142</td>\n",
       "      <td>117920#19721</td>\n",
       "      <td>117920#118570</td>\n",
       "      <td>118568#122142</td>\n",
       "      <td>118568#19721</td>\n",
       "      <td>118568#118570</td>\n",
       "      <td>122142#19721</td>\n",
       "      <td>122142#118570</td>\n",
       "      <td>19721#118570</td>\n",
       "    </tr>\n",
       "  </tbody>\n",
       "</table>\n",
       "<p>32769 rows × 55 columns</p>\n",
       "</div>"
      ],
      "text/plain": [
       "       ACTION  RESOURCE  MGR_ID  ROLE_ROLLUP_1  ROLE_ROLLUP_2  ROLE_DEPTNAME  \\\n",
       "0           1     39353   85475         117961         118300         123472   \n",
       "1           1     17183    1540         117961         118343         123125   \n",
       "2           1     36724   14457         118219         118220         117884   \n",
       "3           1     36135    5396         117961         118343         119993   \n",
       "4           1     42680    5905         117929         117930         119569   \n",
       "...       ...       ...     ...            ...            ...            ...   \n",
       "32764       1     23497   16971         117961         118300         119993   \n",
       "32765       1     25139  311198          91261         118026         122392   \n",
       "32766       1     34924   28805         117961         118327         120299   \n",
       "32767       1     80574   55643         118256         118257         117945   \n",
       "32768       1     14354   59575         117916         118150         117920   \n",
       "\n",
       "       ROLE_TITLE  ROLE_FAMILY_DESC  ROLE_FAMILY  ROLE_CODE  ...  \\\n",
       "0          117905            117906       290919     117908  ...   \n",
       "1          118536            118536       308574     118539  ...   \n",
       "2          117879            267952        19721     117880  ...   \n",
       "3          118321            240983       290919     118322  ...   \n",
       "4          119323            123932        19793     119325  ...   \n",
       "...           ...               ...          ...        ...  ...   \n",
       "32764      118321            240983       290919     118322  ...   \n",
       "32765      121143            173805       249618     121145  ...   \n",
       "32766      124922            152038       118612     124924  ...   \n",
       "32767      280788            280788       292795     119082  ...   \n",
       "32768      118568            122142        19721     118570  ...   \n",
       "\n",
       "      ROLE_DEPTNAME#ROLE_TITLE ROLE_DEPTNAME#ROLE_FAMILY_DESC  \\\n",
       "0                123472#117905                  123472#117906   \n",
       "1                123125#118536                  123125#118536   \n",
       "2                117884#117879                  117884#267952   \n",
       "3                119993#118321                  119993#240983   \n",
       "4                119569#119323                  119569#123932   \n",
       "...                        ...                            ...   \n",
       "32764            119993#118321                  119993#240983   \n",
       "32765            122392#121143                  122392#173805   \n",
       "32766            120299#124922                  120299#152038   \n",
       "32767            117945#280788                  117945#280788   \n",
       "32768            117920#118568                  117920#122142   \n",
       "\n",
       "      ROLE_DEPTNAME#ROLE_FAMILY ROLE_DEPTNAME#ROLE_CODE  \\\n",
       "0                 123472#290919           123472#117908   \n",
       "1                 123125#308574           123125#118539   \n",
       "2                  117884#19721           117884#117880   \n",
       "3                 119993#290919           119993#118322   \n",
       "4                  119569#19793           119569#119325   \n",
       "...                         ...                     ...   \n",
       "32764             119993#290919           119993#118322   \n",
       "32765             122392#249618           122392#121145   \n",
       "32766             120299#118612           120299#124924   \n",
       "32767             117945#292795           117945#119082   \n",
       "32768              117920#19721           117920#118570   \n",
       "\n",
       "      ROLE_TITLE#ROLE_FAMILY_DESC ROLE_TITLE#ROLE_FAMILY ROLE_TITLE#ROLE_CODE  \\\n",
       "0                   117905#117906          117905#290919        117905#117908   \n",
       "1                   118536#118536          118536#308574        118536#118539   \n",
       "2                   117879#267952           117879#19721        117879#117880   \n",
       "3                   118321#240983          118321#290919        118321#118322   \n",
       "4                   119323#123932           119323#19793        119323#119325   \n",
       "...                           ...                    ...                  ...   \n",
       "32764               118321#240983          118321#290919        118321#118322   \n",
       "32765               121143#173805          121143#249618        121143#121145   \n",
       "32766               124922#152038          124922#118612        124922#124924   \n",
       "32767               280788#280788          280788#292795        280788#119082   \n",
       "32768               118568#122142           118568#19721        118568#118570   \n",
       "\n",
       "      ROLE_FAMILY_DESC#ROLE_FAMILY ROLE_FAMILY_DESC#ROLE_CODE  \\\n",
       "0                    117906#290919              117906#117908   \n",
       "1                    118536#308574              118536#118539   \n",
       "2                     267952#19721              267952#117880   \n",
       "3                    240983#290919              240983#118322   \n",
       "4                     123932#19793              123932#119325   \n",
       "...                            ...                        ...   \n",
       "32764                240983#290919              240983#118322   \n",
       "32765                173805#249618              173805#121145   \n",
       "32766                152038#118612              152038#124924   \n",
       "32767                280788#292795              280788#119082   \n",
       "32768                 122142#19721              122142#118570   \n",
       "\n",
       "      ROLE_FAMILY#ROLE_CODE  \n",
       "0             290919#117908  \n",
       "1             308574#118539  \n",
       "2              19721#117880  \n",
       "3             290919#118322  \n",
       "4              19793#119325  \n",
       "...                     ...  \n",
       "32764         290919#118322  \n",
       "32765         249618#121145  \n",
       "32766         118612#124924  \n",
       "32767         292795#119082  \n",
       "32768          19721#118570  \n",
       "\n",
       "[32769 rows x 55 columns]"
      ]
     },
     "execution_count": 13,
     "metadata": {},
     "output_type": "execute_result"
    }
   ],
   "source": [
    "df_combo = df.copy()\n",
    "columns = df_combo.columns\n",
    "for i in range(len(columns)):\n",
    "    for j in range(i+1, len(columns)):\n",
    "        column1 = columns[i]\n",
    "        column2 = columns[j]\n",
    "        df_combo[column1+\"#\"+column2] = df_combo[column1].astype(str).str.cat(df_combo[column2].astype(str), sep=\"#\")\n",
    "df_combo"
   ]
  },
  {
   "cell_type": "code",
   "execution_count": 15,
   "metadata": {},
   "outputs": [
    {
     "data": {
      "text/plain": [
       "Index(['ACTION', 'RESOURCE', 'MGR_ID', 'ROLE_ROLLUP_1', 'ROLE_ROLLUP_2',\n",
       "       'ROLE_DEPTNAME', 'ROLE_TITLE', 'ROLE_FAMILY_DESC', 'ROLE_FAMILY',\n",
       "       'ROLE_CODE', 'ACTION#RESOURCE', 'ACTION#MGR_ID', 'ACTION#ROLE_ROLLUP_1',\n",
       "       'ACTION#ROLE_ROLLUP_2', 'ACTION#ROLE_DEPTNAME', 'ACTION#ROLE_TITLE',\n",
       "       'ACTION#ROLE_FAMILY_DESC', 'ACTION#ROLE_FAMILY', 'ACTION#ROLE_CODE',\n",
       "       'RESOURCE#MGR_ID', 'RESOURCE#ROLE_ROLLUP_1', 'RESOURCE#ROLE_ROLLUP_2',\n",
       "       'RESOURCE#ROLE_DEPTNAME', 'RESOURCE#ROLE_TITLE',\n",
       "       'RESOURCE#ROLE_FAMILY_DESC', 'RESOURCE#ROLE_FAMILY',\n",
       "       'RESOURCE#ROLE_CODE', 'MGR_ID#ROLE_ROLLUP_1', 'MGR_ID#ROLE_ROLLUP_2',\n",
       "       'MGR_ID#ROLE_DEPTNAME', 'MGR_ID#ROLE_TITLE', 'MGR_ID#ROLE_FAMILY_DESC',\n",
       "       'MGR_ID#ROLE_FAMILY', 'MGR_ID#ROLE_CODE', 'ROLE_ROLLUP_1#ROLE_ROLLUP_2',\n",
       "       'ROLE_ROLLUP_1#ROLE_DEPTNAME', 'ROLE_ROLLUP_1#ROLE_TITLE',\n",
       "       'ROLE_ROLLUP_1#ROLE_FAMILY_DESC', 'ROLE_ROLLUP_1#ROLE_FAMILY',\n",
       "       'ROLE_ROLLUP_1#ROLE_CODE', 'ROLE_ROLLUP_2#ROLE_DEPTNAME',\n",
       "       'ROLE_ROLLUP_2#ROLE_TITLE', 'ROLE_ROLLUP_2#ROLE_FAMILY_DESC',\n",
       "       'ROLE_ROLLUP_2#ROLE_FAMILY', 'ROLE_ROLLUP_2#ROLE_CODE',\n",
       "       'ROLE_DEPTNAME#ROLE_TITLE', 'ROLE_DEPTNAME#ROLE_FAMILY_DESC',\n",
       "       'ROLE_DEPTNAME#ROLE_FAMILY', 'ROLE_DEPTNAME#ROLE_CODE',\n",
       "       'ROLE_TITLE#ROLE_FAMILY_DESC', 'ROLE_TITLE#ROLE_FAMILY',\n",
       "       'ROLE_TITLE#ROLE_CODE', 'ROLE_FAMILY_DESC#ROLE_FAMILY',\n",
       "       'ROLE_FAMILY_DESC#ROLE_CODE', 'ROLE_FAMILY#ROLE_CODE'],\n",
       "      dtype='object')"
      ]
     },
     "execution_count": 15,
     "metadata": {},
     "output_type": "execute_result"
    }
   ],
   "source": [
    "df_combo.columns"
   ]
  },
  {
   "cell_type": "code",
   "execution_count": 14,
   "metadata": {
    "colab": {},
    "colab_type": "code",
    "id": "otoeCnjIRk2z"
   },
   "outputs": [
    {
     "ename": "KeyboardInterrupt",
     "evalue": "",
     "output_type": "error",
     "traceback": [
      "\u001b[0;31m---------------------------------------------------------------------------\u001b[0m",
      "\u001b[0;31mKeyboardInterrupt\u001b[0m                         Traceback (most recent call last)",
      "\u001b[0;32m<ipython-input-14-2647f23ea415>\u001b[0m in \u001b[0;36m<module>\u001b[0;34m\u001b[0m\n\u001b[1;32m      4\u001b[0m         \u001b[0;32mcontinue\u001b[0m\u001b[0;34m\u001b[0m\u001b[0;34m\u001b[0m\u001b[0m\n\u001b[1;32m      5\u001b[0m     \u001b[0mcounts\u001b[0m \u001b[0;34m=\u001b[0m \u001b[0mdf_combo\u001b[0m\u001b[0;34m.\u001b[0m\u001b[0mgroupby\u001b[0m\u001b[0;34m(\u001b[0m\u001b[0mcol_name\u001b[0m\u001b[0;34m)\u001b[0m\u001b[0;34m.\u001b[0m\u001b[0mcount\u001b[0m\u001b[0;34m(\u001b[0m\u001b[0;34m)\u001b[0m\u001b[0;34m[\u001b[0m\u001b[0;34m'ACTION'\u001b[0m\u001b[0;34m]\u001b[0m\u001b[0;34m\u001b[0m\u001b[0;34m\u001b[0m\u001b[0m\n\u001b[0;32m----> 6\u001b[0;31m     \u001b[0msuccesses\u001b[0m \u001b[0;34m=\u001b[0m \u001b[0mdf_combo\u001b[0m\u001b[0;34m.\u001b[0m\u001b[0mgroupby\u001b[0m\u001b[0;34m(\u001b[0m\u001b[0mcol_name\u001b[0m\u001b[0;34m)\u001b[0m\u001b[0;34m.\u001b[0m\u001b[0msum\u001b[0m\u001b[0;34m(\u001b[0m\u001b[0;34m)\u001b[0m\u001b[0;34m[\u001b[0m\u001b[0;34m'ACTION'\u001b[0m\u001b[0;34m]\u001b[0m\u001b[0;34m\u001b[0m\u001b[0;34m\u001b[0m\u001b[0m\n\u001b[0m\u001b[1;32m      7\u001b[0m     \u001b[0mdata_combo\u001b[0m\u001b[0;34m[\u001b[0m\u001b[0mcol_name\u001b[0m\u001b[0;34m+\u001b[0m\u001b[0;34m'_counts'\u001b[0m\u001b[0;34m]\u001b[0m \u001b[0;34m=\u001b[0m \u001b[0mdf_combo\u001b[0m\u001b[0;34m[\u001b[0m\u001b[0mcol_name\u001b[0m\u001b[0;34m]\u001b[0m\u001b[0;34m.\u001b[0m\u001b[0mapply\u001b[0m\u001b[0;34m(\u001b[0m\u001b[0;32mlambda\u001b[0m \u001b[0mx\u001b[0m\u001b[0;34m:\u001b[0m \u001b[0mcounts\u001b[0m\u001b[0;34m[\u001b[0m\u001b[0mx\u001b[0m\u001b[0;34m]\u001b[0m\u001b[0;34m)\u001b[0m\u001b[0;34m\u001b[0m\u001b[0;34m\u001b[0m\u001b[0m\n\u001b[1;32m      8\u001b[0m     \u001b[0mdata_combo\u001b[0m\u001b[0;34m[\u001b[0m\u001b[0mcol_name\u001b[0m\u001b[0;34m+\u001b[0m\u001b[0;34m'_successes'\u001b[0m\u001b[0;34m]\u001b[0m \u001b[0;34m=\u001b[0m \u001b[0mdf_combo\u001b[0m\u001b[0;34m[\u001b[0m\u001b[0mcol_name\u001b[0m\u001b[0;34m]\u001b[0m\u001b[0;34m.\u001b[0m\u001b[0mapply\u001b[0m\u001b[0;34m(\u001b[0m\u001b[0;32mlambda\u001b[0m \u001b[0mx\u001b[0m\u001b[0;34m:\u001b[0m \u001b[0msuccesses\u001b[0m\u001b[0;34m[\u001b[0m\u001b[0mx\u001b[0m\u001b[0;34m]\u001b[0m\u001b[0;34m)\u001b[0m\u001b[0;34m\u001b[0m\u001b[0;34m\u001b[0m\u001b[0m\n",
      "\u001b[0;31mKeyboardInterrupt\u001b[0m: "
     ]
    }
   ],
   "source": [
    "data_combo = pd.DataFrame(index=df_combo.index)\n",
    "for col_name in df_combo.columns:\n",
    "    if col_name == 'ACTION':\n",
    "        continue\n",
    "    counts = df_combo.groupby(col_name).count()['ACTION']\n",
    "    successes = df_combo.groupby(col_name).sum()['ACTION']\n",
    "    data_combo[col_name+'_counts'] = df_combo[col_name].apply(lambda x: counts[x])\n",
    "    data_combo[col_name+'_successes'] = df_combo[col_name].apply(lambda x: successes[x])\n",
    "    data_combo[col_name+'_c/s'] = (data_combo[col_name+'_successes'] + 1) / (data_combo[col_name+'_counts'] + 2)"
   ]
  },
  {
   "cell_type": "code",
   "execution_count": null,
   "metadata": {},
   "outputs": [],
   "source": [
    "data_combo"
   ]
  },
  {
   "cell_type": "code",
   "execution_count": null,
   "metadata": {},
   "outputs": [],
   "source": []
  },
  {
   "cell_type": "markdown",
   "metadata": {
    "colab_type": "text",
    "id": "jNGOU4pBRk24"
   },
   "source": [
    "- постройте отчет классификации (classification_report)\n",
    "- постройте confusion matrix и нарисуйте heatmap\n",
    "\n",
    "Оцените на сколько улучшилось качество. Не похоже ли это на переобусение?\n",
    "\n",
    "Внимание! Обучение на этом этапе может быть долгим. На i5 16GB кроссвалидация на 5 фолдах заняла 30 минут!"
   ]
  },
  {
   "cell_type": "code",
   "execution_count": 28,
   "metadata": {
    "colab": {},
    "colab_type": "code",
    "id": "rGxdlJBIRk26"
   },
   "outputs": [
    {
     "data": {
      "text/plain": [
       "(0.999877927822695, 6.103609131633275e-05)"
      ]
     },
     "execution_count": 28,
     "metadata": {},
     "output_type": "execute_result"
    }
   ],
   "source": [
    "from sklearn.model_selection import cross_val_score\n",
    "X = data_combo\n",
    "y = df_combo['ACTION']\n",
    "X_train, X_test, y_train, y_test = train_test_split(X, y, random_state=42, test_size=0.8)\n",
    "res = cross_val_score(KNeighborsClassifier(n_neighbors=5, p=2), X, y, cv=5)\n",
    "res.mean(), res.std()"
   ]
  },
  {
   "cell_type": "code",
   "execution_count": 29,
   "metadata": {},
   "outputs": [
    {
     "name": "stdout",
     "output_type": "stream",
     "text": [
      "              precision    recall  f1-score   support\n",
      "\n",
      "           0       1.00      0.99      1.00      1534\n",
      "           1       1.00      1.00      1.00     24682\n",
      "\n",
      "    accuracy                           1.00     26216\n",
      "   macro avg       1.00      1.00      1.00     26216\n",
      "weighted avg       1.00      1.00      1.00     26216\n",
      "\n"
     ]
    }
   ],
   "source": [
    "knc = KNeighborsClassifier(n_neighbors=5, p=2)\n",
    "knc.fit(X_train, y_train)\n",
    "y_pred = knc.predict(X_test)\n",
    "print(classification_report(y_test, y_pred))"
   ]
  },
  {
   "cell_type": "code",
   "execution_count": 30,
   "metadata": {},
   "outputs": [
    {
     "data": {
      "text/plain": [
       "<matplotlib.axes._subplots.AxesSubplot at 0x7fa17eee5748>"
      ]
     },
     "execution_count": 30,
     "metadata": {},
     "output_type": "execute_result"
    },
    {
     "data": {
      "image/png": "[encoded data removed]",
      "text/plain": [
       "<Figure size 864x864 with 2 Axes>"
      ]
     },
     "metadata": {
      "needs_background": "light"
     },
     "output_type": "display_data"
    }
   ],
   "source": [
    "akws = {\"ha\": 'center',\"va\": 'bottom'}\n",
    "plt.figure(figsize=(12,12))\n",
    "sns.heatmap(confusion_matrix(y_test, y_pred), cmap=plt.cm.Blues, square=True, annot=True, fmt='.4g', annot_kws=akws)"
   ]
  }
 ],
 "metadata": {
  "colab": {
   "collapsed_sections": [],
   "name": "06-01-classification.ipynb",
   "provenance": []
  },
  "kernelspec": {
   "display_name": "Python 3",
   "language": "python",
   "name": "python3"
  },
  "language_info": {
   "codemirror_mode": {
    "name": "ipython",
    "version": 3
   },
   "file_extension": ".py",
   "mimetype": "text/x-python",
   "name": "python",
   "nbconvert_exporter": "python",
   "pygments_lexer": "ipython3",
   "version": "3.7.1"
  }
 },
 "nbformat": 4,
 "nbformat_minor": 1
}
