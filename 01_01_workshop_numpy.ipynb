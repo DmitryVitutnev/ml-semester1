{
 "cells": [
  {
   "cell_type": "markdown",
   "metadata": {
    "colab_type": "text",
    "id": "xEDDrTjf3c0v"
   },
   "source": [
    "# 1.1 Numpy\n",
    "\n",
    "1. Скачайте этот ноутбук к себе.\n",
    "2. Заполните пропущенные ячейки, отвечая на заданные вопросы. Там должен быть код! (если не сказано обратное)\n",
    "3. Сохраните результат в своём гитхаб репозитории.\n",
    "\n",
    "#### Полезная литература\n",
    "\n",
    "- http://www.numpy.org/\n",
    "- https://jakevdp.github.io/PythonDataScienceHandbook/02.00-introduction-to-numpy.html\n",
    "- https://docs.scipy.org/doc/numpy/user/quickstart.html"
   ]
  },
  {
   "cell_type": "markdown",
   "metadata": {
    "colab_type": "text",
    "id": "Y8NTPSWYCkuL"
   },
   "source": [
    "## Часть 1 (19 баллов)"
   ]
  },
  {
   "cell_type": "markdown",
   "metadata": {
    "colab_type": "text",
    "id": "_8usUaZw3c0z"
   },
   "source": [
    "1) Импортировать numpy и написать версию (1 балл)"
   ]
  },
  {
   "cell_type": "code",
   "execution_count": 1,
   "metadata": {
    "colab": {},
    "colab_type": "code",
    "id": "DJoI3cBfSYIv"
   },
   "outputs": [],
   "source": [
    "import numpy as np"
   ]
  },
  {
   "cell_type": "code",
   "execution_count": 2,
   "metadata": {
    "colab": {},
    "colab_type": "code",
    "id": "3pKE62cJ3c02"
   },
   "outputs": [
    {
     "data": {
      "text/plain": [
       "'1.17.2'"
      ]
     },
     "execution_count": 2,
     "metadata": {},
     "output_type": "execute_result"
    }
   ],
   "source": [
    "np.version.version"
   ]
  },
  {
   "cell_type": "markdown",
   "metadata": {
    "colab_type": "text",
    "id": "rZ9_tUuB3c0_"
   },
   "source": [
    "2) Создать нулевой вектор размера 10 (1 балл)"
   ]
  },
  {
   "cell_type": "code",
   "execution_count": 3,
   "metadata": {
    "colab": {},
    "colab_type": "code",
    "id": "sx92SQ9Q3c1C"
   },
   "outputs": [
    {
     "data": {
      "text/plain": [
       "array([0., 0., 0., 0., 0., 0., 0., 0., 0., 0.])"
      ]
     },
     "execution_count": 3,
     "metadata": {},
     "output_type": "execute_result"
    }
   ],
   "source": [
    "np.zeros(10)"
   ]
  },
  {
   "cell_type": "markdown",
   "metadata": {
    "colab_type": "text",
    "id": "cd_BgkDc3c1I"
   },
   "source": [
    "3) Создать вектор заполненный 7-ами размера 7 (2 балла)\n"
   ]
  },
  {
   "cell_type": "code",
   "execution_count": 4,
   "metadata": {
    "colab": {},
    "colab_type": "code",
    "id": "pFjymd7P3c1K"
   },
   "outputs": [
    {
     "data": {
      "text/plain": [
       "array([7, 7, 7, 7, 7, 7, 7])"
      ]
     },
     "execution_count": 4,
     "metadata": {},
     "output_type": "execute_result"
    }
   ],
   "source": [
    "np.full(7, 7)"
   ]
  },
  {
   "cell_type": "markdown",
   "metadata": {
    "colab_type": "text",
    "id": "gBS80NH53c1P"
   },
   "source": [
    "4) Создать вектор заполненный четными числами от 10 до 100 включительно (2 балла)"
   ]
  },
  {
   "cell_type": "code",
   "execution_count": 5,
   "metadata": {
    "colab": {},
    "colab_type": "code",
    "id": "Zwynbeg_3c1Q"
   },
   "outputs": [
    {
     "data": {
      "text/plain": [
       "array([ 10,  12,  14,  16,  18,  20,  22,  24,  26,  28,  30,  32,  34,\n",
       "        36,  38,  40,  42,  44,  46,  48,  50,  52,  54,  56,  58,  60,\n",
       "        62,  64,  66,  68,  70,  72,  74,  76,  78,  80,  82,  84,  86,\n",
       "        88,  90,  92,  94,  96,  98, 100])"
      ]
     },
     "execution_count": 5,
     "metadata": {},
     "output_type": "execute_result"
    }
   ],
   "source": [
    "arr = np.arange(10, 101)\n",
    "arr[arr % 2 == 0]"
   ]
  },
  {
   "cell_type": "markdown",
   "metadata": {
    "colab_type": "text",
    "id": "FhO90mV63c1X"
   },
   "source": [
    "5) Создать массив случайных чисел и развернуть его задом наперёд (4 балла)"
   ]
  },
  {
   "cell_type": "code",
   "execution_count": 6,
   "metadata": {
    "colab": {},
    "colab_type": "code",
    "id": "de4nD5Ye3c1Z"
   },
   "outputs": [
    {
     "data": {
      "text/plain": [
       "array([0.75729695, 0.89901646, 0.01843131, 0.95845722, 0.056151  ,\n",
       "       0.89371001, 0.85247141, 0.74040843, 0.27122517, 0.83983848])"
      ]
     },
     "execution_count": 6,
     "metadata": {},
     "output_type": "execute_result"
    }
   ],
   "source": [
    "arr = np.random.random_sample(10)\n",
    "arr[::-1]"
   ]
  },
  {
   "cell_type": "markdown",
   "metadata": {
    "colab_type": "text",
    "id": "CInYc9pC3c1e"
   },
   "source": [
    "6) Создать двумерную матрицу размера 3 на 3, заполненную числами от 0 до 9 (4 балла)"
   ]
  },
  {
   "cell_type": "code",
   "execution_count": 7,
   "metadata": {
    "colab": {},
    "colab_type": "code",
    "id": "TBbViWEr3c1f"
   },
   "outputs": [
    {
     "data": {
      "text/plain": [
       "array([[0, 1, 2],\n",
       "       [3, 4, 5],\n",
       "       [6, 7, 8]])"
      ]
     },
     "execution_count": 7,
     "metadata": {},
     "output_type": "execute_result"
    }
   ],
   "source": [
    "arr = np.arange(9)\n",
    "arr.reshape((3,3))"
   ]
  },
  {
   "cell_type": "markdown",
   "metadata": {
    "colab_type": "text",
    "id": "nSbf7GB-3c1k"
   },
   "source": [
    "7) Создать матрицу размера 4 на 4 с единицами на диагонали смещеной на один наверх. (5 баллов)"
   ]
  },
  {
   "cell_type": "code",
   "execution_count": 8,
   "metadata": {
    "colab": {},
    "colab_type": "code",
    "id": "wbC7lquy3c1m"
   },
   "outputs": [
    {
     "data": {
      "text/plain": [
       "array([[0., 1., 0., 0.],\n",
       "       [0., 0., 1., 0.],\n",
       "       [0., 0., 0., 1.],\n",
       "       [0., 0., 0., 0.]])"
      ]
     },
     "execution_count": 8,
     "metadata": {},
     "output_type": "execute_result"
    }
   ],
   "source": [
    "np.eye(4, k=1)"
   ]
  },
  {
   "cell_type": "markdown",
   "metadata": {
    "colab_type": "text",
    "id": "eW7tC35y3c1q"
   },
   "source": [
    "## Часть 2 (26 баллов)"
   ]
  },
  {
   "cell_type": "markdown",
   "metadata": {
    "colab_type": "text",
    "id": "E2SzUleV3c1s"
   },
   "source": [
    "1) Создать матрицу с числами в диапазоне от 1 до 4 по диагонали. В других ячейках матрицы должны быть семерки. (2 балла)"
   ]
  },
  {
   "cell_type": "code",
   "execution_count": 9,
   "metadata": {
    "colab": {},
    "colab_type": "code",
    "id": "a-nFesOU3c1v"
   },
   "outputs": [
    {
     "data": {
      "text/plain": [
       "array([[1., 7., 7., 7.],\n",
       "       [7., 2., 7., 7.],\n",
       "       [7., 7., 3., 7.],\n",
       "       [7., 7., 7., 4.]])"
      ]
     },
     "execution_count": 9,
     "metadata": {},
     "output_type": "execute_result"
    }
   ],
   "source": [
    "np.diag([1,2,3,4]) - np.eye(4) * 7 + np.full((4,4),7)"
   ]
  },
  {
   "cell_type": "markdown",
   "metadata": {
    "colab_type": "text",
    "id": "h2-CQcQQ3c10"
   },
   "source": [
    "2) Создать матрицу размера 5 на 5 заполненную чилами от 0 до 4 в строках. (2 балла)"
   ]
  },
  {
   "cell_type": "code",
   "execution_count": 10,
   "metadata": {
    "colab": {},
    "colab_type": "code",
    "id": "mqQT3x-a3c13"
   },
   "outputs": [
    {
     "data": {
      "text/plain": [
       "array([[1., 2., 3., 4.],\n",
       "       [1., 2., 3., 4.],\n",
       "       [1., 2., 3., 4.],\n",
       "       [1., 2., 3., 4.]])"
      ]
     },
     "execution_count": 10,
     "metadata": {},
     "output_type": "execute_result"
    }
   ],
   "source": [
    "a = np.array([1,2,3,4]).reshape(1,4)\n",
    "b = np.ones((4,1))\n",
    "a * b\n"
   ]
  },
  {
   "cell_type": "markdown",
   "metadata": {
    "colab_type": "text",
    "id": "NbqXnGtF3c17"
   },
   "source": [
    "3) Создать матрицу случайных чисел размера 10 на 10 и отнять среднее по строкам из каждого элемента строки (3 балла)"
   ]
  },
  {
   "cell_type": "code",
   "execution_count": 11,
   "metadata": {
    "colab": {},
    "colab_type": "code",
    "id": "rSVnkFco3c19"
   },
   "outputs": [
    {
     "data": {
      "text/plain": [
       "array([[ 0.28888125, -0.32941081, -0.17803315,  0.32577944, -0.05866846,\n",
       "         0.29623279, -0.42455384, -0.21110213,  0.61301219, -0.51683528],\n",
       "       [-0.42938576,  0.20511318, -0.15774566, -0.32471585, -0.07377826,\n",
       "         0.05568232, -0.37564749, -0.25353091, -0.12026129,  0.30553992],\n",
       "       [-0.30956034,  0.54665494, -0.35607443,  0.02431253, -0.12839725,\n",
       "         0.40068314,  0.23512448, -0.21108597,  0.40598893, -0.33147483],\n",
       "       [-0.46267252, -0.01165859, -0.47771464,  0.1223298 , -0.01163588,\n",
       "         0.26543027,  0.37697559,  0.06324502,  0.48277774, -0.03850018],\n",
       "       [ 0.10382113,  0.43985337, -0.43931718, -0.48881313,  0.25545711,\n",
       "        -0.1989023 , -0.40912553, -0.34508173,  0.56885962,  0.11577372],\n",
       "       [ 0.03336036,  0.1432684 ,  0.26723515,  0.16097362,  0.10845906,\n",
       "        -0.32026028, -0.51485209,  0.38847013,  0.44641735,  0.22759023],\n",
       "       [-0.18719789,  0.4101189 , -0.32968334,  0.22371357, -0.0362923 ,\n",
       "         0.19985346,  0.14962188,  0.22148049, -0.04486323, -0.25168834],\n",
       "       [ 0.47774728,  0.39309817, -0.0625248 ,  0.37021173, -0.2629865 ,\n",
       "        -0.15871983, -0.29098241, -0.39007752,  0.02185239,  0.38725853],\n",
       "       [-0.08744074,  0.13277106, -0.29942947, -0.18676643, -0.35341628,\n",
       "        -0.26951656, -0.09102777,  0.1956233 ,  0.06711176, -0.17348299],\n",
       "       [ 0.13828533,  0.02130432, -0.0689392 ,  0.32162117, -0.42463148,\n",
       "        -0.00390299, -0.00474765,  0.32942466,  0.12359251,  0.02912014]])"
      ]
     },
     "execution_count": 11,
     "metadata": {},
     "output_type": "execute_result"
    }
   ],
   "source": [
    "arr = np.random.random_sample((10,10))\n",
    "arr - np.mean(arr, axis = 1) * np.ones((10, 1))"
   ]
  },
  {
   "cell_type": "markdown",
   "metadata": {
    "colab_type": "text",
    "id": "4o-V5Ekp3c2B"
   },
   "source": [
    "4) Создать матрицу случайных чисел размера 10 на 10 и отнять медиану по столбцам из каждого элемента столбца (4 балла)"
   ]
  },
  {
   "cell_type": "code",
   "execution_count": 12,
   "metadata": {
    "colab": {},
    "colab_type": "code",
    "id": "Ht70ullB3c2C"
   },
   "outputs": [
    {
     "data": {
      "text/plain": [
       "array([[ 0.39440697, -0.15679602, -0.29350232,  0.21301616, -0.18111844,\n",
       "        -0.07420957, -0.06337966,  0.39968016, -0.11269275, -0.19200836],\n",
       "       [-0.15985181,  0.27258167,  0.50804791,  0.26947781, -0.48875515,\n",
       "        -0.21322515, -0.10059203, -0.37674491,  0.01468875,  0.52083728],\n",
       "       [ 0.14873239,  0.25570821,  0.34427131,  0.27158193,  0.35043324,\n",
       "         0.45172648, -0.06838046, -0.0993713 ,  0.21580366,  0.27330141],\n",
       "       [ 0.56244628,  0.05537324, -0.19725317,  0.02148729,  0.18641176,\n",
       "         0.38755685, -0.05864363,  0.3798238 , -0.01180182,  0.16709025],\n",
       "       [-0.13610835, -0.25577489, -0.16004891, -0.02148729, -0.2164681 ,\n",
       "         0.1541475 ,  0.26404073,  0.08913181,  0.01180182, -0.12896399],\n",
       "       [-0.37852467, -0.37428565, -0.16039026,  0.29132096, -0.41604612,\n",
       "         0.07420957, -0.04797725,  0.26292218, -0.56263576, -0.05287773],\n",
       "       [-0.05436528, -0.05537324,  0.40783737, -0.33437365,  0.17983946,\n",
       "        -0.27684582,  0.04797725, -0.08913181,  0.05597403,  0.00140275],\n",
       "       [-0.13318929, -0.53517869,  0.07979231, -0.28438176,  0.13664164,\n",
       "        -0.3128023 ,  0.2207952 ,  0.10827855,  0.14735706, -0.00140275],\n",
       "       [ 0.05436528,  0.36938703, -0.07979231, -0.43526952, -0.13664164,\n",
       "        -0.17451114,  0.08132797, -0.13170838, -0.04618074,  0.40099039],\n",
       "       [ 0.15227656,  0.07216405,  0.24105483, -0.23915551,  0.44133641,\n",
       "         0.43438803,  0.10380469, -0.3062409 , -0.51689424, -0.26460168]])"
      ]
     },
     "execution_count": 12,
     "metadata": {},
     "output_type": "execute_result"
    }
   ],
   "source": [
    "arr = np.random.random_sample((10,10))\n",
    "arr - np.ones((1,10)) * np.median(arr, axis = 0).T"
   ]
  },
  {
   "cell_type": "markdown",
   "metadata": {
    "colab_type": "text",
    "id": "DpCnBCgY3c2G"
   },
   "source": [
    "5) Создать матрицу случайных чисел 5x5. Добавить к ней столбцы максимумов и минимумов по строкам. Получится матрица 5x7. (4 балла) "
   ]
  },
  {
   "cell_type": "code",
   "execution_count": 28,
   "metadata": {
    "colab": {},
    "colab_type": "code",
    "id": "WW-qwkip3c2I"
   },
   "outputs": [
    {
     "data": {
      "text/plain": [
       "array([[0.81671364, 0.29440323, 0.39009755, 0.79736925, 0.59270666,\n",
       "        0.81671364, 0.29440323],\n",
       "       [0.61386361, 0.03016157, 0.22865326, 0.58098902, 0.49847818,\n",
       "        0.61386361, 0.03016157],\n",
       "       [0.15804597, 0.56792969, 0.02000813, 0.46200122, 0.89214281,\n",
       "        0.89214281, 0.02000813],\n",
       "       [0.42134181, 0.46954445, 0.63526811, 0.11757921, 0.47359806,\n",
       "        0.63526811, 0.11757921],\n",
       "       [0.03802867, 0.14864713, 0.07896533, 0.86578692, 0.72669845,\n",
       "        0.86578692, 0.03802867]])"
      ]
     },
     "execution_count": 28,
     "metadata": {},
     "output_type": "execute_result"
    }
   ],
   "source": [
    "arr = np.random.random_sample((5,5))\n",
    "arr1 = np.amax(a=arr,axis=1).reshape((5,1))\n",
    "arr2 = np.amin(a=arr,axis=1).reshape((5,1))\n",
    "np.hstack((arr,arr1,arr2))"
   ]
  },
  {
   "cell_type": "markdown",
   "metadata": {
    "colab_type": "text",
    "id": "WDmNazJU3c2M"
   },
   "source": [
    "6) Вектор чисел от 1 до 50 преобразовать в вектор нечетных чисел и в вектор четных чисел, поменять их размерности, чтобы получились две матрицы. Найти произведение этих матриц. Найти обратную матрицу этого произведения.  (6 баллов)"
   ]
  },
  {
   "cell_type": "code",
   "execution_count": 35,
   "metadata": {
    "colab": {},
    "colab_type": "code",
    "id": "WSpTw7Hz3c2N"
   },
   "outputs": [
    {
     "data": {
      "text/plain": [
       "(array([[ 830,  890,  950, 1010, 1070],\n",
       "        [1880, 2040, 2200, 2360, 2520],\n",
       "        [2930, 3190, 3450, 3710, 3970],\n",
       "        [3980, 4340, 4700, 5060, 5420],\n",
       "        [5030, 5490, 5950, 6410, 6870]]),\n",
       " array([[ 830, 1880, 2930, 3980, 5030],\n",
       "        [ 890, 2040, 3190, 4340, 5490],\n",
       "        [ 950, 2200, 3450, 4700, 5950],\n",
       "        [1010, 2360, 3710, 5060, 6410],\n",
       "        [1070, 2520, 3970, 5420, 6870]]))"
      ]
     },
     "execution_count": 35,
     "metadata": {},
     "output_type": "execute_result"
    }
   ],
   "source": [
    "arr = np.array(range(51))[1:]\n",
    "arrOdd = arr[1::2].reshape((5,5))\n",
    "arrEven = arr[::2].reshape((5,5))\n",
    "result = np.dot(arrOdd, arrEven)\n",
    "result, result.T"
   ]
  },
  {
   "cell_type": "markdown",
   "metadata": {
    "colab_type": "text",
    "id": "gLEf2sBp3c2S"
   },
   "source": [
    "7) Создать 8x8 матрицу и заполнить её в шахматном порядке нулями и единицами. (5 баллов)"
   ]
  },
  {
   "cell_type": "code",
   "execution_count": 14,
   "metadata": {
    "colab": {},
    "colab_type": "code",
    "id": "im-KzI8-3c2S"
   },
   "outputs": [
    {
     "data": {
      "text/plain": [
       "array([[1., 0., 1., 0., 1., 0., 1., 0.],\n",
       "       [0., 1., 0., 1., 0., 1., 0., 1.],\n",
       "       [1., 0., 1., 0., 1., 0., 1., 0.],\n",
       "       [0., 1., 0., 1., 0., 1., 0., 1.],\n",
       "       [1., 0., 1., 0., 1., 0., 1., 0.],\n",
       "       [0., 1., 0., 1., 0., 1., 0., 1.],\n",
       "       [1., 0., 1., 0., 1., 0., 1., 0.],\n",
       "       [0., 1., 0., 1., 0., 1., 0., 1.]])"
      ]
     },
     "execution_count": 14,
     "metadata": {},
     "output_type": "execute_result"
    }
   ],
   "source": [
    "matrix = np.zeros((8,8))\n",
    "for i in [0,2,-2,4,-4,6,-6]:\n",
    "    matrix += np.eye(8, k=i);\n",
    "matrix"
   ]
  },
  {
   "cell_type": "code",
   "execution_count": null,
   "metadata": {},
   "outputs": [],
   "source": []
  }
 ],
 "metadata": {
  "colab": {
   "collapsed_sections": [],
   "name": "01-01-workshop-numpy.ipynb",
   "provenance": []
  },
  "kernelspec": {
   "display_name": "Python 3",
   "language": "python",
   "name": "python3"
  },
  "language_info": {
   "codemirror_mode": {
    "name": "ipython",
    "version": 3
   },
   "file_extension": ".py",
   "mimetype": "text/x-python",
   "name": "python",
   "nbconvert_exporter": "python",
   "pygments_lexer": "ipython3",
   "version": "3.7.1"
  }
 },
 "nbformat": 4,
 "nbformat_minor": 1
}
