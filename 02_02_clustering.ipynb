{
 "cells": [
  {
   "cell_type": "markdown",
   "metadata": {
    "colab_type": "text",
    "id": "tl5GndyEOiot"
   },
   "source": [
    "# 2.2 Кластеризация. Баннеры.\n",
    "\n",
    "1. Скачайте этот ноутбук к себе.\n",
    "2. Заполните пропущенные ячейки, отвечая на заданные вопросы. Там должен быть код! (если не сказано обратное)\n",
    "3. Сохраните результат в своём гитхаб репозитории.\n",
    "\n",
    "### Полезная литература\n",
    "\n",
    "- [ODS: Обучение без учителя: PCA и кластеризация](https://habrahabr.ru/company/ods/blog/325654/)\n",
    "- [Интересные алгоритмы кластеризации, часть первая: Affinity propagation](https://habrahabr.ru/post/321216/) и другие статьи цикла\n",
    "- [Глава 7: кластеризация и визуализация. К. В. Воронцов](http://www.machinelearning.ru/wiki/images/6/6d/Voron-ML-1.pdf)\n",
    "- [Документация sklearn.clustering](http://scikit-learn.org/stable/modules/clustering.html)\n",
    "- [K-Means Clustering - The Math of Intelligence. Siraj Raval](https://www.youtube.com/watch?v=9991JlKnFmk) объяснение с программированием KMeans вручную"
   ]
  },
  {
   "cell_type": "markdown",
   "metadata": {
    "colab_type": "text",
    "id": "GYdouILzCWS-"
   },
   "source": []
  },
  {
   "cell_type": "markdown",
   "metadata": {
    "colab_type": "text",
    "id": "FF0l09wsOiou"
   },
   "source": [
    "## Центры кластеров (6 баллов)\n",
    "\n",
    "Представим, что международное круизное агентство Carnival Cruise Line решило себя разрекламировать с помощью баннеров и обратилось для этого к вам. Чтобы протестировать, велика ли от таких баннеров польза, их будет размещено всего 20 штук по всему миру. Вам надо выбрать 20 таких локаций для размещения, чтобы польза была большой и агентство продолжило с вами сотрудничать.\n",
    "\n",
    "Агентство крупное, и у него есть несколько офисов по всему миру. Вблизи этих офисов оно и хочет разместить баннеры — легче договариваться и проверять результат. Также эти места должны быть популярны среди туристов.\n",
    "\n",
    "Для поиска оптимальных мест воспользуемся базой данных крупнейшей социальной сети, основанной на локациях — Foursquare. Полный датасет доступен здесь: https://archive.org/details/201309_foursquare_dataset_umn. Но в `../../data/checkins.csv.gz` я подготовил данные и оставил только 100000 элементов, иначе бы KMeans обучался пол дня."
   ]
  },
  {
   "cell_type": "markdown",
   "metadata": {
    "colab_type": "text",
    "id": "qNOfYnjUOiov"
   },
   "source": [
    "Найдем на Google Maps координаты офисов компании:\n",
    "\n",
    "```\n",
    "33.751277, -118.188740 (Los Angeles)\n",
    "25.867736, -80.324116 (Miami)\n",
    "51.503016, -0.075479 (London)\n",
    "52.378894, 4.885084 (Amsterdam)\n",
    "39.366487, 117.036146 (Beijing)\n",
    "-33.868457, 151.205134 (Sydney)\n",
    "```"
   ]
  },
  {
   "cell_type": "markdown",
   "metadata": {
    "colab_type": "text",
    "id": "9FmOO2khOiow"
   },
   "source": [
    "###  2.0 Read data (0.5 балла): \n",
    "**Загрузите датасет используя pandas `checkins.csv.gz`. Выведите его размер, первые 5 строк таблицы, статистическиую сводку(describe) **"
   ]
  },
  {
   "cell_type": "code",
   "execution_count": 60,
   "metadata": {
    "colab": {},
    "colab_type": "code",
    "id": "O_w_yFSzOiox"
   },
   "outputs": [
    {
     "data": {
      "text/html": [
       "<div>\n",
       "<style scoped>\n",
       "    .dataframe tbody tr th:only-of-type {\n",
       "        vertical-align: middle;\n",
       "    }\n",
       "\n",
       "    .dataframe tbody tr th {\n",
       "        vertical-align: top;\n",
       "    }\n",
       "\n",
       "    .dataframe thead th {\n",
       "        text-align: right;\n",
       "    }\n",
       "</style>\n",
       "<table border=\"1\" class=\"dataframe\">\n",
       "  <thead>\n",
       "    <tr style=\"text-align: right;\">\n",
       "      <th></th>\n",
       "      <th>latitude</th>\n",
       "      <th>longitude</th>\n",
       "    </tr>\n",
       "  </thead>\n",
       "  <tbody>\n",
       "    <tr>\n",
       "      <td>0</td>\n",
       "      <td>38.895112</td>\n",
       "      <td>-77.036366</td>\n",
       "    </tr>\n",
       "    <tr>\n",
       "      <td>1</td>\n",
       "      <td>33.800745</td>\n",
       "      <td>-84.410520</td>\n",
       "    </tr>\n",
       "    <tr>\n",
       "      <td>2</td>\n",
       "      <td>45.523452</td>\n",
       "      <td>-122.676207</td>\n",
       "    </tr>\n",
       "    <tr>\n",
       "      <td>3</td>\n",
       "      <td>40.764462</td>\n",
       "      <td>-111.904565</td>\n",
       "    </tr>\n",
       "    <tr>\n",
       "      <td>4</td>\n",
       "      <td>33.448377</td>\n",
       "      <td>-112.074037</td>\n",
       "    </tr>\n",
       "  </tbody>\n",
       "</table>\n",
       "</div>"
      ],
      "text/plain": [
       "    latitude   longitude\n",
       "0  38.895112  -77.036366\n",
       "1  33.800745  -84.410520\n",
       "2  45.523452 -122.676207\n",
       "3  40.764462 -111.904565\n",
       "4  33.448377 -112.074037"
      ]
     },
     "execution_count": 60,
     "metadata": {},
     "output_type": "execute_result"
    }
   ],
   "source": [
    "import pandas as pd\n",
    "import numpy as np\n",
    "from matplotlib import pyplot as plt\n",
    "%matplotlib inline\n",
    "\n",
    "df = pd.read_csv('../Data/checkins.csv.gz')\n",
    "df.head()"
   ]
  },
  {
   "cell_type": "code",
   "execution_count": 61,
   "metadata": {},
   "outputs": [
    {
     "data": {
      "text/html": [
       "<div>\n",
       "<style scoped>\n",
       "    .dataframe tbody tr th:only-of-type {\n",
       "        vertical-align: middle;\n",
       "    }\n",
       "\n",
       "    .dataframe tbody tr th {\n",
       "        vertical-align: top;\n",
       "    }\n",
       "\n",
       "    .dataframe thead th {\n",
       "        text-align: right;\n",
       "    }\n",
       "</style>\n",
       "<table border=\"1\" class=\"dataframe\">\n",
       "  <thead>\n",
       "    <tr style=\"text-align: right;\">\n",
       "      <th></th>\n",
       "      <th>latitude</th>\n",
       "      <th>longitude</th>\n",
       "    </tr>\n",
       "  </thead>\n",
       "  <tbody>\n",
       "    <tr>\n",
       "      <td>count</td>\n",
       "      <td>100000.000000</td>\n",
       "      <td>100000.000000</td>\n",
       "    </tr>\n",
       "    <tr>\n",
       "      <td>mean</td>\n",
       "      <td>36.886388</td>\n",
       "      <td>-89.396849</td>\n",
       "    </tr>\n",
       "    <tr>\n",
       "      <td>std</td>\n",
       "      <td>8.351517</td>\n",
       "      <td>35.579317</td>\n",
       "    </tr>\n",
       "    <tr>\n",
       "      <td>min</td>\n",
       "      <td>-45.031162</td>\n",
       "      <td>-159.670833</td>\n",
       "    </tr>\n",
       "    <tr>\n",
       "      <td>25%</td>\n",
       "      <td>33.494170</td>\n",
       "      <td>-112.074037</td>\n",
       "    </tr>\n",
       "    <tr>\n",
       "      <td>50%</td>\n",
       "      <td>38.646991</td>\n",
       "      <td>-87.743938</td>\n",
       "    </tr>\n",
       "    <tr>\n",
       "      <td>75%</td>\n",
       "      <td>40.740389</td>\n",
       "      <td>-75.163789</td>\n",
       "    </tr>\n",
       "    <tr>\n",
       "      <td>max</td>\n",
       "      <td>67.631479</td>\n",
       "      <td>174.908056</td>\n",
       "    </tr>\n",
       "  </tbody>\n",
       "</table>\n",
       "</div>"
      ],
      "text/plain": [
       "            latitude      longitude\n",
       "count  100000.000000  100000.000000\n",
       "mean       36.886388     -89.396849\n",
       "std         8.351517      35.579317\n",
       "min       -45.031162    -159.670833\n",
       "25%        33.494170    -112.074037\n",
       "50%        38.646991     -87.743938\n",
       "75%        40.740389     -75.163789\n",
       "max        67.631479     174.908056"
      ]
     },
     "execution_count": 61,
     "metadata": {},
     "output_type": "execute_result"
    }
   ],
   "source": [
    "df.describe()"
   ]
  },
  {
   "cell_type": "markdown",
   "metadata": {
    "colab_type": "text",
    "id": "_YewtcqKOio0"
   },
   "source": [
    "###  2.1 MeanShift (1 балл): \n",
    "Для данной задачи мы не знаем сколько кластеров вообще существует, и есть ли они, поэтому воспользуемся методом, который сам находит нужное количество кластеров. Используйте `MeanShift`, указав `bandwidth=0.1`, что в переводе из градусов в метры колеблется примерно от 5 до 10 км в средних широтах. Документацию по нему вы можете найти в документации SKlearn [тут](http://scikit-learn.org/stable/modules/clustering.html#mean-shift).\n",
    "\n",
    "**Обучите кластеризатор на всех данных.** Выполнение в 4 потока на i5 заняло 2 минуты."
   ]
  },
  {
   "cell_type": "code",
   "execution_count": 3,
   "metadata": {
    "colab": {},
    "colab_type": "code",
    "id": "4Rssk7EbOio1"
   },
   "outputs": [
    {
     "data": {
      "text/plain": [
       "3093"
      ]
     },
     "execution_count": 3,
     "metadata": {},
     "output_type": "execute_result"
    }
   ],
   "source": [
    "from sklearn.cluster import MeanShift, estimate_bandwidth\n",
    "ms = MeanShift(bandwidth=0.1, bin_seeding=True)\n",
    "ms.fit(df)\n",
    "len(ms.cluster_centers_)"
   ]
  },
  {
   "cell_type": "markdown",
   "metadata": {
    "colab_type": "text",
    "id": "6BkX8BzlOio3"
   },
   "source": [
    "### 2.2 Visualization (0.5 балла): \n",
    "**Визуализируйте с помощью matplotlib все точки из датасета** так, чтобы они были разукрашены в соответсвии с кластером к которому они принадлежат. **Добавьте на ваш график ещё точки расположений офисов**, сделайте их большими и красными, чтобы было видно. Рисовать каким-то образом карту мира под точками НЕ надо."
   ]
  },
  {
   "cell_type": "code",
   "execution_count": 9,
   "metadata": {
    "colab": {},
    "colab_type": "code",
    "id": "uZEJFIixOio4"
   },
   "outputs": [
    {
     "data": {
      "image/png": "[encoded data removed]",
      "text/plain": [
       "<Figure size 432x288 with 1 Axes>"
      ]
     },
     "metadata": {
      "needs_background": "light"
     },
     "output_type": "display_data"
    }
   ],
   "source": [
    "plt.scatter(data=df, x='longitude', y='latitude', c=ms.labels_, alpha=1)\n",
    "\n",
    "offices = np.array([[-118.188740, 33.751277], \n",
    "           [-80.324116,25.867736], \n",
    "           [-0.075479,51.503016], \n",
    "           [4.885084,52.378894], \n",
    "           [117.036146,39.366487], \n",
    "           [151.205134,-33.868457]])\n",
    "\n",
    "#plt.scatter(y = 33.751277, x = -118.188740, c = 'red', s = 100)\n",
    "#plt.scatter(y = 25.867736, x = -80.324116, c = 'red', s = 100)\n",
    "#plt.scatter(y = 51.503016, x = -0.075479, c = 'red', s = 100)\n",
    "#plt.scatter(y = 52.378894, x = 4.885084, c = 'red', s = 100)\n",
    "#plt.scatter(y = 39.366487, x = 117.036146, c = 'red', s = 100)\n",
    "#plt.scatter(y = -33.868457, x = 151.205134, c = 'red', s = 100)\n",
    "\n",
    "plt.scatter(y = offices[:,1], x = offices[:,0], c = 'red', s = 100)\n",
    "plt.show()\n"
   ]
  },
  {
   "cell_type": "markdown",
   "metadata": {
    "colab_type": "text",
    "id": "OQww3COaOio7"
   },
   "source": [
    "###  2.3 Filter clusters (2 балла): \n",
    "Как видим на графике, некоторые из получившихся кластеров содержат слишком мало точек — такие кластеры не интересны рекламодателям. Поэтому надо определить, какие из кластеров содержат, скажем, больше 15 элементов. Центры этих кластеров и являются оптимальными для размещения. \n",
    "\n",
    "**Выведите количество кластеров, которое удовлетворяет этому условию.**\n",
    "\n",
    "**Hint**: `itertools.groupby`"
   ]
  },
  {
   "cell_type": "code",
   "execution_count": 11,
   "metadata": {
    "colab": {},
    "colab_type": "code",
    "id": "jdpJvPIiOio7"
   },
   "outputs": [
    {
     "data": {
      "text/plain": [
       "590"
      ]
     },
     "execution_count": 11,
     "metadata": {},
     "output_type": "execute_result"
    }
   ],
   "source": [
    "df2 = df.groupby(ms.labels_)['latitude'].count()\n",
    "good_points = df2[df2 > 15]\n",
    "len(good_points)"
   ]
  },
  {
   "cell_type": "markdown",
   "metadata": {
    "colab_type": "text",
    "id": "sjymBfYEOio-"
   },
   "source": [
    "###  Задание 2.4 (2 балла): \n",
    "Как мы помним, необходимо разместить только 20 баннеров близ офисов компании. Осталось определить 20 ближайших к ним центров кластеров. Т.е. посчитать дистанцию до ближайшего офиса для каждой точки и выбрать 20 с наименьшим значением.\n",
    "\n",
    "**Выведите эти 20 центров кластеров, отсортрованных по возрастанию расстояния до ближайшего офиса.**\n",
    "\n",
    "**Hint:** Для вычисления расстояния вы можете использовать обычную евклидову метрику и предполагать, что земля плоская. А можете использовать `geopy.distance.vincenty` если поймёте как."
   ]
  },
  {
   "cell_type": "code",
   "execution_count": 56,
   "metadata": {
    "colab": {},
    "colab_type": "code",
    "id": "Q26cGveqOio_"
   },
   "outputs": [
    {
     "name": "stdout",
     "output_type": "stream",
     "text": [
      "[[-3.38606304e+01  1.51204776e+02]\n",
      " [ 5.23729640e+01  4.89231722e+00]\n",
      " [ 2.58830504e+01 -8.03078258e+01]\n",
      " [ 5.15029913e+01 -1.25537289e-01]\n",
      " [ 3.38098780e+01 -1.18148924e+02]\n",
      " [ 2.57858124e+01 -8.02179380e+01]\n",
      " [ 2.57053497e+01 -8.02834287e+01]\n",
      " [ 3.39318358e+01 -1.18141898e+02]\n",
      " [ 2.60100982e+01 -8.01999906e+01]\n",
      " [ 3.38883253e+01 -1.18048928e+02]\n",
      " [ 3.38729860e+01 -1.18362091e+02]\n",
      " [ 2.61162002e+01 -8.03937907e+01]\n",
      " [ 3.36432049e+01 -1.17946115e+02]\n",
      " [ 2.61208627e+01 -8.01589067e+01]\n",
      " [ 3.38112331e+01 -1.17890612e+02]\n",
      " [ 3.40603976e+01 -1.18248709e+02]\n",
      " [ 2.62005846e+01 -8.02507161e+01]\n",
      " [ 3.37317442e+01 -1.17825700e+02]\n",
      " [ 3.40354870e+01 -1.18438998e+02]\n",
      " [ 3.41380093e+01 -1.18168987e+02]]\n"
     ]
    }
   ],
   "source": [
    "from scipy.spatial import distance\n",
    "final_clusters = ms.cluster_centers_[good_points.index]\n",
    "distances = [];\n",
    "for elem in final_clusters:\n",
    "    dist = float(\"inf\")\n",
    "    for j in range(len(offices)):\n",
    "        dist = min(dist, distance.euclidean([offices[j,1], offices[j,0]], elem))\n",
    "    distances.append(dist);\n",
    "\n",
    "indexes = np.array(distances).argsort()[0:20]\n",
    "result = final_clusters[indexes]\n",
    "print(result);"
   ]
  },
  {
   "cell_type": "markdown",
   "metadata": {
    "colab_type": "text",
    "id": "gh4HF9xkOipB"
   },
   "source": [
    "Координата центра кластера ближайшего к какому-то из офисов компании должны быть `(52.37296399032261, 4.8923172225806466)`. Если у вас не так, то считайте, что вы сделали что-то неправильно. "
   ]
  }
 ],
 "metadata": {
  "colab": {
   "collapsed_sections": [],
   "name": "02-02-clustering.ipynb",
   "provenance": []
  },
  "kernelspec": {
   "display_name": "Python 3",
   "language": "python",
   "name": "python3"
  },
  "language_info": {
   "codemirror_mode": {
    "name": "ipython",
    "version": 3
   },
   "file_extension": ".py",
   "mimetype": "text/x-python",
   "name": "python",
   "nbconvert_exporter": "python",
   "pygments_lexer": "ipython3",
   "version": "3.7.1"
  }
 },
 "nbformat": 4,
 "nbformat_minor": 1
}
