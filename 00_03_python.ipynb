{
 "cells": [
  {
   "cell_type": "markdown",
   "metadata": {
    "colab_type": "text",
    "id": "7A4juSnqHt7I"
   },
   "source": [
    "# 1.3 Python 3. Список.\n",
    "\n",
    "С базовыми фичами языка можно ознакомиться в материалах к данной теме.\n",
    "\n",
    "Предполагается, что вы смогли сделать задания из первой части домашней работы.\n",
    "\n",
    "\n",
    "**Не допускается использование сторонних бибилиотек типа numpy!**"
   ]
  },
  {
   "cell_type": "markdown",
   "metadata": {
    "colab_type": "text",
    "id": "x8t4kAiWHt7V"
   },
   "source": [
    "# Домашняя работа 1 (Хардкорная). Список.\n",
    "\n",
    "## Теория\n",
    "\n",
    "Мы пойдем весьма необычным путём. В этом задании вы будете реализовывать последовательность(связный список) с помощью рекурсии и базового элемента `tuple`. Это отличается от классического связного списка, основанного на структуре и указателе `next`, когда обход бы делался с помощью `for`, пока не встретился бы _null pointer_.\n",
    "\n",
    "Немного теории. Допустим у нас есть связная последовательность чисел ![](https://senior-sigan.ml/fcs-programming-technology/assets/linked_list.png)\n",
    "\n",
    "Её можно представить в виде последовательности вложенных друг в друга пар: `seq=(1, (2, (3, 4)))`. Тогда чтобы взять последний элемент списка нужно сделать `seq[1][1][1]`. Или если создать специальную вспомогательную функцию `tail`: `tail(tail(tail(seq)))`, что немного математичнее.\n",
    "\n",
    "> Использовать цикл `for`, `while` **запрещено**. Только рекурсия, только хардкор.\n",
    "\n",
    "Можно использовать классы и переопределять операторы, но не обязательно. Как делать классы можно прочитать [тут](https://learnxinyminutes.com/docs/ru-ru/python3-ru/) или в официальной [документации](https://docs.python.org/3/tutorial/classes.html).\n",
    "\n",
    "_Комментарий:_ ваш список должен уметь быть пустым, чтобы его длина была 0. Это потребуется в следующем задании.\n",
    "\n",
    "Далее список задач и примеры функций. Если вы делаете в ООП стиле, то придумайте методы самостоятельно, главное чтобы идея была такая же.\n",
    "\n",
    "### Рекурсивно связная последовательность. Easy.\n",
    "\n",
    "- взятие элемента по индексу `at(seq(1,2,3), 1) == 2`\n",
    "- вычисление длины последовательности `size(seq(1,2)) == 2`\n",
    "- сравнение массивов `eq(seq(1,2), seq(1,2)) == Treu`, `eq(seq(1,2,3), seq(1,2)) == False`\n",
    "\n",
    "### Функции над рекурсивно связаной последовательностью. Moderate.\n",
    "\n",
    "- взятие хвоста последовательности, пропустив N значений, `eq(tail(seq(1,2,3,4), 2), seq(3,4)) == True`\n",
    "- соединение двух списков `eq(concat(seq(1,2), seq(3,4)), seq(1,2,3,4)) == True`\n",
    "- функция `for_each` для обхода списка `for_each(seq(1,2,3,4), lambda x: print(x))`\n",
    "- функция `for_each_indexed` для обхода списка с индексом `for_each(seq(1,2,3,4), lambda i, x: print(i, x))`\n",
    "\n",
    "### Трансформаторы, фильтры, свёртки рекурсивных списков. Hard.\n",
    "\n",
    "- функция преобразования `map`: `map(seq(1,2,3,4), lambda x: x**2) == seq(1,4,9,16)`\n",
    "- функция фильтрации `filter`: `filter(seq(1,2,3,4),lambda x: x%2==1) == seq(1,3)`\n",
    "- функция редуцирования `reduce`: `reduce(s=seq(1,2,3,4), init_value=0, func=lambda acc, cur: acc+cur) == 0+1+2+3+4==10`\n",
    "- на основе функции редуцирования сделать функцию конвертации последовательности в python list `list(seq(1,2,3,4)) == [1,2,3,4]`\n",
    "\n",
    "### Дополнительное задание, если интересно:\n",
    "\n",
    "- на основе функции редуцирования сделать функцию flat_map, которая превращает последовательность последовательностей в последовательность. `flat_map(seq(1,2,3), lambda x: seq(x, x + 10)) == seq(1, 11, 2, 12, 3, 13)`"
   ]
  },
  {
   "cell_type": "code",
   "execution_count": 72,
   "metadata": {
    "colab": {},
    "colab_type": "code",
    "id": "cO2L9xglHt7W",
    "outputId": "13af86ca-540e-4e64-9fd3-43b96ab33980"
   },
   "outputs": [
    {
     "data": {
      "text/plain": [
       "True"
      ]
     },
     "execution_count": 72,
     "metadata": {},
     "output_type": "execute_result"
    }
   ],
   "source": [
    "# Воспользуйтесь этим начальным кодом, чтобы реализовать нужный процедуры\n",
    "\n",
    "def head(pair):\n",
    "    if pair is None:\n",
    "        return None\n",
    "    return pair[0]\n",
    "\n",
    "def tail(pair):\n",
    "    if pair is None:\n",
    "        return None\n",
    "    if len(pair) < 2:\n",
    "        return None\n",
    "    return pair[1]\n",
    "\n",
    "def seq(*elements):\n",
    "    def first(x):\n",
    "        return x[0]\n",
    "    def other(x):\n",
    "        return x[1:]\n",
    "\n",
    "    if len(elements) == 0:\n",
    "        return None\n",
    "\n",
    "    if len(elements) == 1:\n",
    "        return first(elements), None\n",
    "\n",
    "    if len(elements) == 2:\n",
    "        return first(elements), other(elements)\n",
    "\n",
    "    return first(elements), Seq(*other(elements))\n",
    "\n",
    "s = seq(1,2,3,4,5)\n",
    "s == (1, (2, (3, (4, (5,)))))\n",
    "head(s) == 1\n",
    "tail(s) == (2, (3, (4, (5,))))"
   ]
  },
  {
   "cell_type": "code",
   "execution_count": 64,
   "metadata": {
    "colab": {},
    "colab_type": "code",
    "id": "4R1o2_ExHt7d"
   },
   "outputs": [
    {
     "data": {
      "text/plain": [
       "True"
      ]
     },
     "execution_count": 64,
     "metadata": {},
     "output_type": "execute_result"
    }
   ],
   "source": [
    "def at(seq, index):\n",
    "    if index == 0:\n",
    "        return seq[0]\n",
    "    return at(tail(seq), index - 1)\n",
    "\n",
    "at(seq(1,2,3), 1) == 2"
   ]
  },
  {
   "cell_type": "code",
   "execution_count": 65,
   "metadata": {},
   "outputs": [
    {
     "data": {
      "text/plain": [
       "True"
      ]
     },
     "execution_count": 65,
     "metadata": {},
     "output_type": "execute_result"
    }
   ],
   "source": [
    "def size(seq):\n",
    "    if(seq is None):\n",
    "        return 0\n",
    "    if(tail(seq) is None):\n",
    "        return 1\n",
    "    return 1 + size(tail(seq))\n",
    "\n",
    "size(seq(1,2)) == 2"
   ]
  },
  {
   "cell_type": "code",
   "execution_count": 77,
   "metadata": {},
   "outputs": [
    {
     "data": {
      "text/plain": [
       "(True, True)"
      ]
     },
     "execution_count": 77,
     "metadata": {},
     "output_type": "execute_result"
    }
   ],
   "source": [
    "def eq(seq1, seq2):\n",
    "    if(seq1 is None and seq2 is None):\n",
    "        return True\n",
    "    if(seq1 is None or seq2 is None):\n",
    "        return False\n",
    "    return seq1[0] == seq2[0] and eq(tail(seq1), tail(seq2))\n",
    "\n",
    "eq(Seq(1,2), Seq(1,2)) == True, eq(Seq(1,2,3), Seq(1,2)) == False"
   ]
  },
  {
   "cell_type": "code",
   "execution_count": 67,
   "metadata": {},
   "outputs": [
    {
     "data": {
      "text/plain": [
       "True"
      ]
     },
     "execution_count": 67,
     "metadata": {},
     "output_type": "execute_result"
    }
   ],
   "source": [
    "def tail(pair, skip = 1):\n",
    "    if pair is None:\n",
    "        return None\n",
    "    if len(pair) < 2:\n",
    "        return None\n",
    "    if(skip > 1):\n",
    "        return tail(pair[1], skip - 1)\n",
    "    return pair[1]\n",
    "\n",
    "eq(tail(seq(1,2,3,4), 2), seq(3,4)) == True"
   ]
  },
  {
   "cell_type": "code",
   "execution_count": 68,
   "metadata": {},
   "outputs": [
    {
     "data": {
      "text/plain": [
       "True"
      ]
     },
     "execution_count": 68,
     "metadata": {},
     "output_type": "execute_result"
    }
   ],
   "source": [
    "def concat(seq1, seq2):\n",
    "    if head(seq1) is None :\n",
    "        return seq2\n",
    "    if tail(seq1) is None:\n",
    "        return head(seq1), seq2\n",
    "    return head(seq1), concat(tail(seq1), seq2)\n",
    "\n",
    "eq(concat(seq(1,2), seq(3,4)), seq(1,2,3,4)) == True"
   ]
  },
  {
   "cell_type": "code",
   "execution_count": 69,
   "metadata": {},
   "outputs": [
    {
     "name": "stdout",
     "output_type": "stream",
     "text": [
      "1\n",
      "2\n",
      "3\n",
      "4\n"
     ]
    }
   ],
   "source": [
    "def for_each(seq, func):\n",
    "    if(head(seq) is None):\n",
    "        return;\n",
    "    func(head(seq))\n",
    "    for_each(tail(seq), func)\n",
    "    return ;\n",
    "\n",
    "for_each(seq(1,2,3,4), lambda x: print(x))"
   ]
  },
  {
   "cell_type": "code",
   "execution_count": 70,
   "metadata": {},
   "outputs": [
    {
     "name": "stdout",
     "output_type": "stream",
     "text": [
      "0 1\n",
      "1 2\n",
      "2 3\n",
      "3 4\n"
     ]
    }
   ],
   "source": [
    "def for_each_indexed(seq, func, i = 0):\n",
    "    if(head(seq) is None):\n",
    "        return;\n",
    "    func(i, head(seq))\n",
    "    for_each_indexed(tail(seq), func, i + 1)\n",
    "    return;\n",
    "\n",
    "for_each_indexed(seq(1,2,3,4), lambda i, x: print(i, x))"
   ]
  },
  {
   "cell_type": "code",
   "execution_count": 78,
   "metadata": {},
   "outputs": [
    {
     "data": {
      "text/plain": [
       "True"
      ]
     },
     "execution_count": 78,
     "metadata": {},
     "output_type": "execute_result"
    }
   ],
   "source": [
    "def map(seq, func):\n",
    "    if(head(seq) is None):\n",
    "        return None\n",
    "    return func(head(seq)), map(tail(seq), func)\n",
    "\n",
    "eq(map(seq(1,2,3,4), lambda x: x**2),seq(1,4,9,16))"
   ]
  },
  {
   "cell_type": "code",
   "execution_count": 81,
   "metadata": {},
   "outputs": [
    {
     "data": {
      "text/plain": [
       "True"
      ]
     },
     "execution_count": 81,
     "metadata": {},
     "output_type": "execute_result"
    }
   ],
   "source": [
    "def filter(seq, func):\n",
    "    if(head(seq) is None):\n",
    "        return None\n",
    "    if(func(head(seq))):\n",
    "        return head(seq), filter(tail(seq), func)\n",
    "    return filter(tail(seq), func)\n",
    "\n",
    "eq(filter(seq(1,2,3,4),lambda x: x%2==1), seq(1,3))"
   ]
  },
  {
   "cell_type": "code",
   "execution_count": 85,
   "metadata": {},
   "outputs": [
    {
     "data": {
      "text/plain": [
       "True"
      ]
     },
     "execution_count": 85,
     "metadata": {},
     "output_type": "execute_result"
    }
   ],
   "source": [
    "def reduce(seq, init, func):\n",
    "    if(head(seq) is None):\n",
    "        return init\n",
    "    return func(head(seq), reduce(tail(seq), init, func))\n",
    "\n",
    "reduce(seq(1,2,3,4), 0, lambda acc, cur: acc+cur) == 0+1+2+3+4==10"
   ]
  },
  {
   "cell_type": "code",
   "execution_count": 92,
   "metadata": {},
   "outputs": [
    {
     "data": {
      "text/plain": [
       "True"
      ]
     },
     "execution_count": 92,
     "metadata": {},
     "output_type": "execute_result"
    }
   ],
   "source": [
    "def list(seq):\n",
    "    return reduce(seq, [], lambda x, y: [x] + y)\n",
    "\n",
    "list(seq(1,2,3,4)) == [1,2,3,4]"
   ]
  },
  {
   "cell_type": "code",
   "execution_count": 94,
   "metadata": {},
   "outputs": [
    {
     "data": {
      "text/plain": [
       "True"
      ]
     },
     "execution_count": 94,
     "metadata": {},
     "output_type": "execute_result"
    }
   ],
   "source": [
    "def flat_map(seq, func):\n",
    "    return reduce(seq, None, lambda x, y: concat(func(x), y))\n",
    "\n",
    "eq(flat_map(seq(1,2,3), lambda x: seq(x, x + 10)) , seq(1, 11, 2, 12, 3, 13))"
   ]
  },
  {
   "cell_type": "code",
   "execution_count": null,
   "metadata": {},
   "outputs": [],
   "source": []
  }
 ],
 "metadata": {
  "colab": {
   "collapsed_sections": [],
   "name": "00-03_python.ipynb",
   "provenance": []
  },
  "kernelspec": {
   "display_name": "Python 3",
   "language": "python",
   "name": "python3"
  },
  "language_info": {
   "codemirror_mode": {
    "name": "ipython",
    "version": 3
   },
   "file_extension": ".py",
   "mimetype": "text/x-python",
   "name": "python",
   "nbconvert_exporter": "python",
   "pygments_lexer": "ipython3",
   "version": "3.7.1"
  }
 },
 "nbformat": 4,
 "nbformat_minor": 1
}
